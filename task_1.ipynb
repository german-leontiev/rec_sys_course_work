{
 "cells": [
  {
   "cell_type": "markdown",
   "id": "06ddf775-204d-48b5-b491-1d7520e332cf",
   "metadata": {},
   "source": [
    "# Задание 1\n",
    "\n",
    "Найдите для каждого пользователя 10 продуктов, которые он заказывал чаще всего - полученный результат нужно загрузить на каггл\n",
    "\n",
    "Обязательно сохраните себе сформированный набор, он нам пригодится дальше для нейронной сети "
   ]
  },
  {
   "cell_type": "code",
   "execution_count": 1,
   "id": "5d623e25-d732-4e21-9525-6f94998abb5a",
   "metadata": {},
   "outputs": [],
   "source": [
    "import pandas as pd"
   ]
  },
  {
   "cell_type": "code",
   "execution_count": 3,
   "id": "547369e9-8c95-40da-8d08-dc066939cd7e",
   "metadata": {},
   "outputs": [],
   "source": [
    "products = pd.read_csv(\"products.csv\")\n",
    "transactions = pd.read_csv(\"transactions.csv\")"
   ]
  },
  {
   "cell_type": "code",
   "execution_count": 11,
   "id": "35e5a8cd-1e34-43a9-af5c-0a9140c10085",
   "metadata": {},
   "outputs": [],
   "source": [
    "df = transactions.groupby([\"user_id\", \"product_id\"]).agg({\"product_id\": \"count\"}).rename(columns={\"product_id\": \"count\"}).reset_index()"
   ]
  },
  {
   "cell_type": "code",
   "execution_count": 21,
   "id": "71337ca0-8a52-4221-ba34-a3c5ac3e77eb",
   "metadata": {},
   "outputs": [],
   "source": [
    "df.sort_values([\"user_id\", \"count\"], ascending=False, inplace=True)"
   ]
  },
  {
   "cell_type": "markdown",
   "id": "cd0ae0fd-aa25-47a9-bbf0-512a9df56087",
   "metadata": {},
   "source": [
    "Отсортировали по юзеру и числу покупок"
   ]
  },
  {
   "cell_type": "code",
   "execution_count": 30,
   "id": "79fee527-e6e1-4124-83cc-b6b592f38f82",
   "metadata": {},
   "outputs": [
    {
     "data": {
      "text/html": [
       "<div>\n",
       "<style scoped>\n",
       "    .dataframe tbody tr th:only-of-type {\n",
       "        vertical-align: middle;\n",
       "    }\n",
       "\n",
       "    .dataframe tbody tr th {\n",
       "        vertical-align: top;\n",
       "    }\n",
       "\n",
       "    .dataframe thead th {\n",
       "        text-align: right;\n",
       "    }\n",
       "</style>\n",
       "<table border=\"1\" class=\"dataframe\">\n",
       "  <thead>\n",
       "    <tr style=\"text-align: right;\">\n",
       "      <th></th>\n",
       "      <th>user_id</th>\n",
       "      <th>product_id</th>\n",
       "      <th>count</th>\n",
       "    </tr>\n",
       "  </thead>\n",
       "  <tbody>\n",
       "    <tr>\n",
       "      <th>9459009</th>\n",
       "      <td>206209</td>\n",
       "      <td>6846</td>\n",
       "      <td>10</td>\n",
       "    </tr>\n",
       "    <tr>\n",
       "      <th>9459011</th>\n",
       "      <td>206209</td>\n",
       "      <td>9405</td>\n",
       "      <td>9</td>\n",
       "    </tr>\n",
       "    <tr>\n",
       "      <th>9459058</th>\n",
       "      <td>206209</td>\n",
       "      <td>41213</td>\n",
       "      <td>7</td>\n",
       "    </tr>\n",
       "    <tr>\n",
       "      <th>9459015</th>\n",
       "      <td>206209</td>\n",
       "      <td>13176</td>\n",
       "      <td>6</td>\n",
       "    </tr>\n",
       "    <tr>\n",
       "      <th>9459033</th>\n",
       "      <td>206209</td>\n",
       "      <td>23594</td>\n",
       "      <td>4</td>\n",
       "    </tr>\n",
       "    <tr>\n",
       "      <th>...</th>\n",
       "      <td>...</td>\n",
       "      <td>...</td>\n",
       "      <td>...</td>\n",
       "    </tr>\n",
       "    <tr>\n",
       "      <th>7</th>\n",
       "      <td>1</td>\n",
       "      <td>17122</td>\n",
       "      <td>1</td>\n",
       "    </tr>\n",
       "    <tr>\n",
       "      <th>6</th>\n",
       "      <td>1</td>\n",
       "      <td>14084</td>\n",
       "      <td>1</td>\n",
       "    </tr>\n",
       "    <tr>\n",
       "      <th>13</th>\n",
       "      <td>1</td>\n",
       "      <td>38928</td>\n",
       "      <td>1</td>\n",
       "    </tr>\n",
       "    <tr>\n",
       "      <th>14</th>\n",
       "      <td>1</td>\n",
       "      <td>39657</td>\n",
       "      <td>1</td>\n",
       "    </tr>\n",
       "    <tr>\n",
       "      <th>15</th>\n",
       "      <td>1</td>\n",
       "      <td>41787</td>\n",
       "      <td>1</td>\n",
       "    </tr>\n",
       "  </tbody>\n",
       "</table>\n",
       "<p>9459065 rows × 3 columns</p>\n",
       "</div>"
      ],
      "text/plain": [
       "         user_id  product_id  count\n",
       "9459009   206209        6846     10\n",
       "9459011   206209        9405      9\n",
       "9459058   206209       41213      7\n",
       "9459015   206209       13176      6\n",
       "9459033   206209       23594      4\n",
       "...          ...         ...    ...\n",
       "7              1       17122      1\n",
       "6              1       14084      1\n",
       "13             1       38928      1\n",
       "14             1       39657      1\n",
       "15             1       41787      1\n",
       "\n",
       "[9459065 rows x 3 columns]"
      ]
     },
     "execution_count": 30,
     "metadata": {},
     "output_type": "execute_result"
    }
   ],
   "source": [
    "df"
   ]
  },
  {
   "cell_type": "markdown",
   "id": "c5b7ee41-bf3f-437c-b68d-66af812a6118",
   "metadata": {},
   "source": [
    "Для каждой покупки получим её номер в топе самых частых для конкретного юзера"
   ]
  },
  {
   "cell_type": "code",
   "execution_count": 37,
   "id": "6230a946-0895-4148-b79e-3fbe944a9e44",
   "metadata": {},
   "outputs": [],
   "source": [
    "df = df.assign(ord=df.groupby(['user_id']).cumcount())"
   ]
  },
  {
   "cell_type": "code",
   "execution_count": 43,
   "id": "82c3a662-28b6-48c2-ae19-c08c78ed3d44",
   "metadata": {},
   "outputs": [
    {
     "data": {
      "text/html": [
       "<div>\n",
       "<style scoped>\n",
       "    .dataframe tbody tr th:only-of-type {\n",
       "        vertical-align: middle;\n",
       "    }\n",
       "\n",
       "    .dataframe tbody tr th {\n",
       "        vertical-align: top;\n",
       "    }\n",
       "\n",
       "    .dataframe thead th {\n",
       "        text-align: right;\n",
       "    }\n",
       "</style>\n",
       "<table border=\"1\" class=\"dataframe\">\n",
       "  <thead>\n",
       "    <tr style=\"text-align: right;\">\n",
       "      <th></th>\n",
       "      <th>user_id</th>\n",
       "      <th>product_id</th>\n",
       "      <th>count</th>\n",
       "      <th>ord</th>\n",
       "    </tr>\n",
       "  </thead>\n",
       "  <tbody>\n",
       "    <tr>\n",
       "      <th>9459009</th>\n",
       "      <td>206209</td>\n",
       "      <td>6846</td>\n",
       "      <td>10</td>\n",
       "      <td>0</td>\n",
       "    </tr>\n",
       "    <tr>\n",
       "      <th>9459011</th>\n",
       "      <td>206209</td>\n",
       "      <td>9405</td>\n",
       "      <td>9</td>\n",
       "      <td>1</td>\n",
       "    </tr>\n",
       "    <tr>\n",
       "      <th>9459058</th>\n",
       "      <td>206209</td>\n",
       "      <td>41213</td>\n",
       "      <td>7</td>\n",
       "      <td>2</td>\n",
       "    </tr>\n",
       "    <tr>\n",
       "      <th>9459015</th>\n",
       "      <td>206209</td>\n",
       "      <td>13176</td>\n",
       "      <td>6</td>\n",
       "      <td>3</td>\n",
       "    </tr>\n",
       "    <tr>\n",
       "      <th>9459033</th>\n",
       "      <td>206209</td>\n",
       "      <td>23594</td>\n",
       "      <td>4</td>\n",
       "      <td>4</td>\n",
       "    </tr>\n",
       "    <tr>\n",
       "      <th>...</th>\n",
       "      <td>...</td>\n",
       "      <td>...</td>\n",
       "      <td>...</td>\n",
       "      <td>...</td>\n",
       "    </tr>\n",
       "    <tr>\n",
       "      <th>7</th>\n",
       "      <td>1</td>\n",
       "      <td>17122</td>\n",
       "      <td>1</td>\n",
       "      <td>13</td>\n",
       "    </tr>\n",
       "    <tr>\n",
       "      <th>6</th>\n",
       "      <td>1</td>\n",
       "      <td>14084</td>\n",
       "      <td>1</td>\n",
       "      <td>14</td>\n",
       "    </tr>\n",
       "    <tr>\n",
       "      <th>13</th>\n",
       "      <td>1</td>\n",
       "      <td>38928</td>\n",
       "      <td>1</td>\n",
       "      <td>15</td>\n",
       "    </tr>\n",
       "    <tr>\n",
       "      <th>14</th>\n",
       "      <td>1</td>\n",
       "      <td>39657</td>\n",
       "      <td>1</td>\n",
       "      <td>16</td>\n",
       "    </tr>\n",
       "    <tr>\n",
       "      <th>15</th>\n",
       "      <td>1</td>\n",
       "      <td>41787</td>\n",
       "      <td>1</td>\n",
       "      <td>17</td>\n",
       "    </tr>\n",
       "  </tbody>\n",
       "</table>\n",
       "<p>9459065 rows × 4 columns</p>\n",
       "</div>"
      ],
      "text/plain": [
       "         user_id  product_id  count  ord\n",
       "9459009   206209        6846     10    0\n",
       "9459011   206209        9405      9    1\n",
       "9459058   206209       41213      7    2\n",
       "9459015   206209       13176      6    3\n",
       "9459033   206209       23594      4    4\n",
       "...          ...         ...    ...  ...\n",
       "7              1       17122      1   13\n",
       "6              1       14084      1   14\n",
       "13             1       38928      1   15\n",
       "14             1       39657      1   16\n",
       "15             1       41787      1   17\n",
       "\n",
       "[9459065 rows x 4 columns]"
      ]
     },
     "execution_count": 43,
     "metadata": {},
     "output_type": "execute_result"
    }
   ],
   "source": [
    "df"
   ]
  },
  {
   "cell_type": "markdown",
   "id": "5311c491-f755-4403-b9b7-7d6687d2a985",
   "metadata": {},
   "source": [
    "Получим топ-10 для каждого юзера"
   ]
  },
  {
   "cell_type": "code",
   "execution_count": 47,
   "id": "a69444d1-53aa-4250-b39c-e4a2617a1c7a",
   "metadata": {},
   "outputs": [],
   "source": [
    "top10_list = df[df.ord < 10].groupby(\"user_id\").agg({\"product_id\": list})"
   ]
  },
  {
   "cell_type": "code",
   "execution_count": 51,
   "id": "9f357dba-8e66-4b1f-89a8-8fe766513193",
   "metadata": {},
   "outputs": [
    {
     "data": {
      "text/plain": [
       "user_id\n",
       "1       10\n",
       "271      4\n",
       "287      6\n",
       "374      7\n",
       "384      9\n",
       "986      1\n",
       "1377     2\n",
       "1603     8\n",
       "2700     5\n",
       "3200     3\n",
       "Name: product_id, dtype: int64"
      ]
     },
     "execution_count": 51,
     "metadata": {},
     "output_type": "execute_result"
    }
   ],
   "source": [
    "top10_list.product_id.apply(len).drop_duplicates()"
   ]
  },
  {
   "cell_type": "markdown",
   "id": "edc7e81f-74e4-4f13-b40a-f76a3cea400e",
   "metadata": {},
   "source": [
    "Как видно для некоторых юзеров не набралось 10 покупок.\n",
    "Возместим их из топа самых покупаемых"
   ]
  },
  {
   "cell_type": "code",
   "execution_count": 58,
   "id": "c9244710-5490-45aa-bc23-63d84c463f73",
   "metadata": {},
   "outputs": [],
   "source": [
    "top_20_all = list(df.groupby(\"product_id\")[\"count\"].agg(\"sum\").sort_values(ascending=False).index[:20])"
   ]
  },
  {
   "cell_type": "code",
   "execution_count": 61,
   "id": "3a83ba96-fa9a-4794-97f0-1808f4f250da",
   "metadata": {},
   "outputs": [],
   "source": [
    "top10_list[\"len\"] = top10_list.product_id.apply(len)"
   ]
  },
  {
   "cell_type": "code",
   "execution_count": 66,
   "id": "c52a108a-7dea-473f-ba71-6edec75255cd",
   "metadata": {},
   "outputs": [
    {
     "data": {
      "text/plain": [
       "product_id    [11885, 40618, 39858, 36534]\n",
       "len                                      4\n",
       "Name: 271, dtype: object"
      ]
     },
     "execution_count": 66,
     "metadata": {},
     "output_type": "execute_result"
    }
   ],
   "source": [
    "top10_list[top10_list.len < 10].iloc[0,:]"
   ]
  },
  {
   "cell_type": "code",
   "execution_count": 83,
   "id": "9cbb0296-2662-4482-9a54-cfd3e74177bf",
   "metadata": {},
   "outputs": [],
   "source": [
    "def fill_10(row):\n",
    "    if len(row) == 10:\n",
    "        return row.product_id\n",
    "    pids = row.product_id\n",
    "    diff = set(top_20_all) - set(pids)\n",
    "    unique_top_ranged = [p for p in top_20_all if p in diff]\n",
    "    res = pids + unique_top_ranged\n",
    "    return res[:10]"
   ]
  },
  {
   "cell_type": "code",
   "execution_count": 88,
   "id": "d4949e5e-04da-4300-90f1-3d6e3f014857",
   "metadata": {},
   "outputs": [],
   "source": [
    "top10_list[\"top10\"] = top10_list.apply(fill_10, axis=1)"
   ]
  },
  {
   "cell_type": "code",
   "execution_count": 92,
   "id": "428638e9-f2ce-4b7b-8fc3-08c8d38aee3f",
   "metadata": {},
   "outputs": [],
   "source": [
    "sample_submission = top10_list.top10.reset_index()"
   ]
  },
  {
   "cell_type": "code",
   "execution_count": 99,
   "id": "58122d49-9644-40d6-9478-fe4a2a5de6ee",
   "metadata": {},
   "outputs": [],
   "source": [
    "sample_submission.top10 = sample_submission.top10.apply(lambda x: \" \".join(map(str, x)))"
   ]
  },
  {
   "cell_type": "code",
   "execution_count": 101,
   "id": "146fd1e2-f883-456b-af1f-86210dbb1f1f",
   "metadata": {},
   "outputs": [
    {
     "data": {
      "text/html": [
       "<div>\n",
       "<style scoped>\n",
       "    .dataframe tbody tr th:only-of-type {\n",
       "        vertical-align: middle;\n",
       "    }\n",
       "\n",
       "    .dataframe tbody tr th {\n",
       "        vertical-align: top;\n",
       "    }\n",
       "\n",
       "    .dataframe thead th {\n",
       "        text-align: right;\n",
       "    }\n",
       "</style>\n",
       "<table border=\"1\" class=\"dataframe\">\n",
       "  <thead>\n",
       "    <tr style=\"text-align: right;\">\n",
       "      <th></th>\n",
       "      <th>user_id</th>\n",
       "      <th>top10</th>\n",
       "    </tr>\n",
       "  </thead>\n",
       "  <tbody>\n",
       "    <tr>\n",
       "      <th>0</th>\n",
       "      <td>1</td>\n",
       "      <td>196 12427 10258 25133 46149 13032 49235 13176 ...</td>\n",
       "    </tr>\n",
       "    <tr>\n",
       "      <th>1</th>\n",
       "      <td>2</td>\n",
       "      <td>32792 47209 24852 19156 1559 18523 33754 16589...</td>\n",
       "    </tr>\n",
       "    <tr>\n",
       "      <th>2</th>\n",
       "      <td>3</td>\n",
       "      <td>39190 47766 21903 17668 9387 43961 1819 16797 ...</td>\n",
       "    </tr>\n",
       "    <tr>\n",
       "      <th>3</th>\n",
       "      <td>7</td>\n",
       "      <td>40852 37602 17638 21137 31683 13198 4920 30391...</td>\n",
       "    </tr>\n",
       "    <tr>\n",
       "      <th>4</th>\n",
       "      <td>13</td>\n",
       "      <td>27086 4210 27435 33735 1689 25134 5652 43086 4...</td>\n",
       "    </tr>\n",
       "  </tbody>\n",
       "</table>\n",
       "</div>"
      ],
      "text/plain": [
       "   user_id                                              top10\n",
       "0        1  196 12427 10258 25133 46149 13032 49235 13176 ...\n",
       "1        2  32792 47209 24852 19156 1559 18523 33754 16589...\n",
       "2        3  39190 47766 21903 17668 9387 43961 1819 16797 ...\n",
       "3        7  40852 37602 17638 21137 31683 13198 4920 30391...\n",
       "4       13  27086 4210 27435 33735 1689 25134 5652 43086 4..."
      ]
     },
     "execution_count": 101,
     "metadata": {},
     "output_type": "execute_result"
    }
   ],
   "source": [
    "sample_submission.head()"
   ]
  },
  {
   "cell_type": "code",
   "execution_count": 106,
   "id": "23257df7-be4b-4170-93da-c6200ba74308",
   "metadata": {},
   "outputs": [],
   "source": [
    "sample_submission.columns = [\"user_id\", \"product_id\"]"
   ]
  },
  {
   "cell_type": "code",
   "execution_count": 107,
   "id": "59f554e9-1098-4a76-af67-0293a507e7cc",
   "metadata": {},
   "outputs": [],
   "source": [
    "sample_submission.to_csv(\"sample_submission.csv\", index=False)"
   ]
  }
 ],
 "metadata": {
  "kernelspec": {
   "display_name": "Python 3 (ipykernel)",
   "language": "python",
   "name": "python3"
  },
  "language_info": {
   "codemirror_mode": {
    "name": "ipython",
    "version": 3
   },
   "file_extension": ".py",
   "mimetype": "text/x-python",
   "name": "python",
   "nbconvert_exporter": "python",
   "pygments_lexer": "ipython3",
   "version": "3.10.8"
  }
 },
 "nbformat": 4,
 "nbformat_minor": 5
}
