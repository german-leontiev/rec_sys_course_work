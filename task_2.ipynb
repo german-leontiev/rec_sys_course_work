{
 "cells": [
  {
   "cell_type": "code",
   "execution_count": 1,
   "id": "99fe8fd7-bfda-45b9-88a2-dd4ba3fc7189",
   "metadata": {},
   "outputs": [],
   "source": [
    "import pandas as pd"
   ]
  },
  {
   "cell_type": "code",
   "execution_count": 2,
   "id": "d5a4e42e-9d24-4af7-8c45-4fb694fd1513",
   "metadata": {},
   "outputs": [],
   "source": [
    "products = pd.read_csv(\"products.csv\")\n",
    "transactions = pd.read_csv(\"transactions.csv\")"
   ]
  },
  {
   "cell_type": "markdown",
   "id": "6dec75f8-c2d1-4702-ae75-755d2be26abb",
   "metadata": {},
   "source": [
    "Для пользователя - [id_пользователя, кол-во купленных продуктов, показатель перезаказов]\n",
    "Показатель перезаказов - это характеристика, отражающая процент продуктов, которые пользователь покупал больше 1 раза"
   ]
  },
  {
   "cell_type": "code",
   "execution_count": 3,
   "id": "9b6751e6-1362-402a-909b-0dfbaf40f722",
   "metadata": {},
   "outputs": [],
   "source": [
    "users_embeddings = transactions.groupby(\"user_id\").agg({\"product_id\": \"count\", \"reordered\": \"sum\"}).rename(columns={\"product_id\": \"n_bought\"}).reset_index()"
   ]
  },
  {
   "cell_type": "code",
   "execution_count": 4,
   "id": "10b68042-ca16-4e7f-a774-df59dd7123a7",
   "metadata": {},
   "outputs": [],
   "source": [
    "users_embeddings.reordered = users_embeddings.reordered / users_embeddings.n_bought"
   ]
  },
  {
   "cell_type": "markdown",
   "id": "39285a56-5915-4648-bfde-c760d19fe706",
   "metadata": {},
   "source": [
    "Для продуктов - [id продукта, процент перезаказа этого продукта среди всех пользователей, кол-во заказов данного продукта всеми пользователями, процент заказа данного продукта конкретным пользователем]"
   ]
  },
  {
   "cell_type": "code",
   "execution_count": 5,
   "id": "fbfd2576-7ad8-45e9-9d2e-4c665d4a7a8c",
   "metadata": {},
   "outputs": [],
   "source": [
    "products_embeddings = transactions.groupby(\"product_id\").agg({\"user_id\": \"count\", \"reordered\": \"sum\"})"
   ]
  },
  {
   "cell_type": "code",
   "execution_count": 6,
   "id": "65cee0fd-b414-495f-bd6b-373f3caaab2f",
   "metadata": {},
   "outputs": [],
   "source": [
    "products_embeddings[\"reordered\"] = products_embeddings.reordered / products_embeddings.user_id"
   ]
  },
  {
   "cell_type": "code",
   "execution_count": 7,
   "id": "d5caea7d-34c1-4c4f-a844-b656064ccd29",
   "metadata": {},
   "outputs": [],
   "source": [
    "products_embeddings.columns = [\"n_ordered\", \"reorder_coeff\"]"
   ]
  },
  {
   "cell_type": "code",
   "execution_count": 8,
   "id": "cb3dbfc5-30fa-4820-ac3f-513576aff216",
   "metadata": {},
   "outputs": [],
   "source": [
    "products_embeddings.reset_index(inplace=True)"
   ]
  },
  {
   "cell_type": "markdown",
   "id": "9780c83f-4059-4abb-8dac-abddd935ffea",
   "metadata": {},
   "source": [
    "процент заказа данного продукта конкретным пользователем"
   ]
  },
  {
   "cell_type": "code",
   "execution_count": 9,
   "id": "936bcc99-b463-4a08-91e8-1035a29d792c",
   "metadata": {},
   "outputs": [],
   "source": [
    "product_user_coeff = transactions.groupby([\"user_id\", \"product_id\"]).agg({\"reordered\":\"count\"})"
   ]
  },
  {
   "cell_type": "code",
   "execution_count": 10,
   "id": "3df30b4e-726a-4050-93f0-f70ce4a16134",
   "metadata": {},
   "outputs": [],
   "source": [
    "product_user_coeff = product_user_coeff.reset_index().rename(columns={\"reordered\": \"user_ordered\"})"
   ]
  },
  {
   "cell_type": "code",
   "execution_count": 11,
   "id": "03dbcd79-a1f1-44df-ab6b-e5f8fef62459",
   "metadata": {},
   "outputs": [],
   "source": [
    "product_user_coeff = pd.merge(products_embeddings[[\"product_id\", \"n_ordered\"]], product_user_coeff, on=\"product_id\")"
   ]
  },
  {
   "cell_type": "code",
   "execution_count": 12,
   "id": "e7f8aac8-00cd-4c02-9831-838741e10fd7",
   "metadata": {},
   "outputs": [],
   "source": [
    "product_user_coeff[\"product_user_coeff\"] = product_user_coeff.user_ordered / product_user_coeff.n_ordered"
   ]
  },
  {
   "cell_type": "code",
   "execution_count": 13,
   "id": "72790b29-58e9-409a-9cbb-1f025b27f577",
   "metadata": {},
   "outputs": [],
   "source": [
    "product_user_coeff = product_user_coeff[[\"product_id\", \"user_id\", \"product_user_coeff\"]]"
   ]
  },
  {
   "cell_type": "code",
   "execution_count": 14,
   "id": "ee9b8554-15f5-4bc7-a2f5-3f5ff9af9bb5",
   "metadata": {},
   "outputs": [],
   "source": [
    "users_embeddings.columns = [\"user_id\", \"user_total_bought\", \"user_reorder_coeff\"]"
   ]
  },
  {
   "cell_type": "code",
   "execution_count": 15,
   "id": "c797e537-dd50-4c36-ae89-c3013b39e5be",
   "metadata": {},
   "outputs": [],
   "source": [
    "products_embeddings.columns = [\"product_id\", \"product_total_ordered\", \"product_reorder_coeff\"]"
   ]
  },
  {
   "cell_type": "code",
   "execution_count": 16,
   "id": "81a26d6d-6542-424a-be92-18bc693c049c",
   "metadata": {},
   "outputs": [],
   "source": [
    "product_user_coeff = pd.merge(product_user_coeff, users_embeddings, on=\"user_id\")"
   ]
  },
  {
   "cell_type": "code",
   "execution_count": 17,
   "id": "557fd797-3b4e-4a80-b997-f7825f48d99f",
   "metadata": {},
   "outputs": [],
   "source": [
    "product_user_coeff = pd.merge(product_user_coeff, products_embeddings, on=\"product_id\")"
   ]
  },
  {
   "cell_type": "markdown",
   "id": "e46038cb-5260-47e9-a8a5-885a06cc93d0",
   "metadata": {},
   "source": [
    "Для \"игреков\" можно например взять 1, если продукт был перезаказан, 0 , если не покупался/не перезаказывался "
   ]
  },
  {
   "cell_type": "code",
   "execution_count": 18,
   "id": "6fd04200-d331-4164-82ba-f13cff032551",
   "metadata": {},
   "outputs": [],
   "source": [
    "y = transactions.groupby([\"product_id\", \"user_id\"])[\"reordered\"].agg(\"max\").reset_index()"
   ]
  },
  {
   "cell_type": "code",
   "execution_count": 19,
   "id": "ca7b0824-4ec6-43a9-83fd-b01534cc2dc4",
   "metadata": {},
   "outputs": [],
   "source": [
    "y.columns = [\"product_id\", \"user_id\", \"reordered_target\"]"
   ]
  },
  {
   "cell_type": "code",
   "execution_count": 20,
   "id": "17a43f53-f725-4e7c-8a84-47860f62eed4",
   "metadata": {},
   "outputs": [],
   "source": [
    "df = pd.merge(product_user_coeff, y, on=[\"product_id\", \"user_id\"])"
   ]
  },
  {
   "cell_type": "code",
   "execution_count": 21,
   "id": "874a70b1-ee79-4c47-bcb2-2c44b6dd9a07",
   "metadata": {},
   "outputs": [
    {
     "data": {
      "text/html": [
       "<div>\n",
       "<style scoped>\n",
       "    .dataframe tbody tr th:only-of-type {\n",
       "        vertical-align: middle;\n",
       "    }\n",
       "\n",
       "    .dataframe tbody tr th {\n",
       "        vertical-align: top;\n",
       "    }\n",
       "\n",
       "    .dataframe thead th {\n",
       "        text-align: right;\n",
       "    }\n",
       "</style>\n",
       "<table border=\"1\" class=\"dataframe\">\n",
       "  <thead>\n",
       "    <tr style=\"text-align: right;\">\n",
       "      <th></th>\n",
       "      <th>product_id</th>\n",
       "      <th>user_id</th>\n",
       "      <th>product_user_coeff</th>\n",
       "      <th>user_total_bought</th>\n",
       "      <th>user_reorder_coeff</th>\n",
       "      <th>product_total_ordered</th>\n",
       "      <th>product_reorder_coeff</th>\n",
       "      <th>reordered_target</th>\n",
       "    </tr>\n",
       "  </thead>\n",
       "  <tbody>\n",
       "    <tr>\n",
       "      <th>0</th>\n",
       "      <td>1</td>\n",
       "      <td>138</td>\n",
       "      <td>0.001291</td>\n",
       "      <td>148</td>\n",
       "      <td>0.628378</td>\n",
       "      <td>1549</td>\n",
       "      <td>0.678502</td>\n",
       "      <td>1.0</td>\n",
       "    </tr>\n",
       "    <tr>\n",
       "      <th>1</th>\n",
       "      <td>1</td>\n",
       "      <td>777</td>\n",
       "      <td>0.000646</td>\n",
       "      <td>113</td>\n",
       "      <td>0.734513</td>\n",
       "      <td>1549</td>\n",
       "      <td>0.678502</td>\n",
       "      <td>0.0</td>\n",
       "    </tr>\n",
       "    <tr>\n",
       "      <th>2</th>\n",
       "      <td>1</td>\n",
       "      <td>1052</td>\n",
       "      <td>0.001291</td>\n",
       "      <td>48</td>\n",
       "      <td>0.500000</td>\n",
       "      <td>1549</td>\n",
       "      <td>0.678502</td>\n",
       "      <td>1.0</td>\n",
       "    </tr>\n",
       "    <tr>\n",
       "      <th>3</th>\n",
       "      <td>1</td>\n",
       "      <td>1480</td>\n",
       "      <td>0.001937</td>\n",
       "      <td>192</td>\n",
       "      <td>0.734375</td>\n",
       "      <td>1549</td>\n",
       "      <td>0.678502</td>\n",
       "      <td>1.0</td>\n",
       "    </tr>\n",
       "    <tr>\n",
       "      <th>4</th>\n",
       "      <td>1</td>\n",
       "      <td>1494</td>\n",
       "      <td>0.001937</td>\n",
       "      <td>158</td>\n",
       "      <td>0.550633</td>\n",
       "      <td>1549</td>\n",
       "      <td>0.678502</td>\n",
       "      <td>1.0</td>\n",
       "    </tr>\n",
       "  </tbody>\n",
       "</table>\n",
       "</div>"
      ],
      "text/plain": [
       "   product_id  user_id  product_user_coeff  user_total_bought  \\\n",
       "0           1      138            0.001291                148   \n",
       "1           1      777            0.000646                113   \n",
       "2           1     1052            0.001291                 48   \n",
       "3           1     1480            0.001937                192   \n",
       "4           1     1494            0.001937                158   \n",
       "\n",
       "   user_reorder_coeff  product_total_ordered  product_reorder_coeff  \\\n",
       "0            0.628378                   1549               0.678502   \n",
       "1            0.734513                   1549               0.678502   \n",
       "2            0.500000                   1549               0.678502   \n",
       "3            0.734375                   1549               0.678502   \n",
       "4            0.550633                   1549               0.678502   \n",
       "\n",
       "   reordered_target  \n",
       "0               1.0  \n",
       "1               0.0  \n",
       "2               1.0  \n",
       "3               1.0  \n",
       "4               1.0  "
      ]
     },
     "execution_count": 21,
     "metadata": {},
     "output_type": "execute_result"
    }
   ],
   "source": [
    "df.head()"
   ]
  },
  {
   "cell_type": "markdown",
   "id": "86908313-b82a-491e-8ce5-fd729c5d486b",
   "metadata": {},
   "source": [
    "давайте обсудим нейросеть: \n",
    "\n",
    "Достаточно использовать только dense слои\n",
    "\n",
    "модель должна принимать на вход эмбеддинги пользователя + эмбеддинги какого то продукта, на выходе получаем вероятность покупки этого продукта \n",
    "\n",
    "После для каждого пользователя сортируем все вероятности по убыванию и берем первые 10 \n",
    "\n",
    "Активация на выходе - сигмоид "
   ]
  },
  {
   "cell_type": "code",
   "execution_count": 22,
   "id": "64a6d393-0151-4594-8992-faea5ec12d26",
   "metadata": {},
   "outputs": [],
   "source": [
    "import warnings\n",
    "warnings.filterwarnings(\"ignore\")\n",
    "import torch\n",
    "import numpy as np\n",
    "from sklearn.model_selection import train_test_split"
   ]
  },
  {
   "cell_type": "code",
   "execution_count": 23,
   "id": "df060260-6eeb-45e5-aeea-0ada114e2d4a",
   "metadata": {},
   "outputs": [],
   "source": [
    "X_cols = ['product_user_coeff', 'user_total_bought', 'user_reorder_coeff', 'product_total_ordered', 'product_reorder_coeff']"
   ]
  },
  {
   "cell_type": "code",
   "execution_count": 24,
   "id": "50d2fc59-9541-4efa-a244-35bd332e6199",
   "metadata": {},
   "outputs": [],
   "source": [
    "y_cols = [\"reordered_target\"]"
   ]
  },
  {
   "cell_type": "code",
   "execution_count": 25,
   "id": "7749865b-7510-46c1-aea1-19a024c3fe78",
   "metadata": {},
   "outputs": [],
   "source": [
    "X = df[X_cols]\n",
    "y = df[y_cols]"
   ]
  },
  {
   "cell_type": "code",
   "execution_count": 26,
   "id": "7501b79c-3ca1-466f-9616-555fc53f00a1",
   "metadata": {},
   "outputs": [],
   "source": [
    "# X_train, X_test, y_train, y_test = train_test_split(X, y,\n",
    "#                                                     random_state=42)"
   ]
  },
  {
   "cell_type": "code",
   "execution_count": null,
   "id": "12b435d3-4249-4c4c-85fb-2dde4db2d88e",
   "metadata": {},
   "outputs": [],
   "source": []
  },
  {
   "cell_type": "code",
   "execution_count": 27,
   "id": "090e66b9-ec1b-45db-a708-dd32ee539df6",
   "metadata": {},
   "outputs": [],
   "source": [
    "import torch\n",
    "import torch.nn as nn\n",
    "import torch.nn.functional as F"
   ]
  },
  {
   "cell_type": "code",
   "execution_count": 28,
   "id": "f874ed24-b28e-4fed-add7-31859374d00c",
   "metadata": {},
   "outputs": [],
   "source": [
    "class Net(nn.Module):\n",
    "\n",
    "    def __init__(self):\n",
    "        super(Net, self).__init__()\n",
    "        self.fc1 = nn.Linear(5, 120)\n",
    "        self.fc2 = nn.Linear(120, 120)\n",
    "        self.fc3 = nn.Linear(120, 120)\n",
    "        self.fc4 = nn.Linear(120, 120)\n",
    "        self.fc5 = nn.Linear(120, 120)\n",
    "        self.fc6 = nn.Linear(120, 84)\n",
    "        self.fc7 = nn.Linear(84, 1)\n",
    "\n",
    "    def forward(self, x):\n",
    "        x = F.relu(self.fc1(x))\n",
    "        x = F.relu(self.fc2(x))\n",
    "        x = F.relu(self.fc3(x))\n",
    "        x = F.relu(self.fc4(x))\n",
    "        x = F.relu(self.fc5(x))\n",
    "        x = F.relu(self.fc6(x))\n",
    "        x = F.sigmoid(self.fc7(x))\n",
    "        return x"
   ]
  },
  {
   "cell_type": "code",
   "execution_count": 29,
   "id": "b9d091bb-db1c-47de-8ad8-af7ef2cc49a6",
   "metadata": {},
   "outputs": [],
   "source": [
    "from torch.utils.data import Dataset, DataLoader\n",
    "\n",
    "# Convert data to torch tensors\n",
    "class Data(Dataset):\n",
    "    def __init__(self, X, y):\n",
    "        self.X = torch.from_numpy(X.astype(np.float32))\n",
    "        self.y = torch.from_numpy(y.astype(np.float32))\n",
    "        self.len = self.X.shape[0]\n",
    "       \n",
    "    def __getitem__(self, index):\n",
    "        return self.X[index], self.y[index]\n",
    "   \n",
    "    def __len__(self):\n",
    "        return self.len"
   ]
  },
  {
   "cell_type": "code",
   "execution_count": 30,
   "id": "e41133dc-a676-48b7-bb96-084ee9699d98",
   "metadata": {},
   "outputs": [],
   "source": [
    "model = Net()\n",
    "loss_fn = nn.BCELoss()"
   ]
  },
  {
   "cell_type": "code",
   "execution_count": 31,
   "id": "b003399a-e96c-45c4-a16c-30b4a9142264",
   "metadata": {},
   "outputs": [],
   "source": [
    "model = model.to(\"cuda\")"
   ]
  },
  {
   "cell_type": "code",
   "execution_count": 32,
   "id": "cec96848-e74b-41c4-a0b0-79a6f9ab4a61",
   "metadata": {},
   "outputs": [],
   "source": [
    "batch_size = 2048\n",
    "\n",
    "# Instantiate training and test data\n",
    "train_data = Data(X.values, y.values)\n",
    "train_dataloader = DataLoader(dataset=train_data, batch_size=batch_size, shuffle=True)\n",
    "\n",
    "# test_data = Data(X_test.values, y_test.values)\n",
    "# test_dataloader = DataLoader(dataset=test_data, batch_size=batch_size, shuffle=True)"
   ]
  },
  {
   "cell_type": "code",
   "execution_count": 33,
   "id": "d3a002a5-852e-4b7a-a146-9e5fcd4fe83a",
   "metadata": {},
   "outputs": [],
   "source": [
    "from tqdm import tqdm\n",
    "import torch.optim as optim"
   ]
  },
  {
   "cell_type": "code",
   "execution_count": 34,
   "id": "906950eb-8c96-4aab-8746-7877d8bfb800",
   "metadata": {},
   "outputs": [],
   "source": [
    "optimizer = optim.SGD(model.parameters(), lr=0.001, momentum=0.9)\n"
   ]
  },
  {
   "cell_type": "code",
   "execution_count": 35,
   "id": "e013a542-6049-47fe-9533-82f5f3d9c6c3",
   "metadata": {
    "tags": []
   },
   "outputs": [
    {
     "name": "stderr",
     "output_type": "stream",
     "text": [
      "100%|██████████| 300/300 [6:59:10<00:00, 83.83s/it]   "
     ]
    },
    {
     "name": "stdout",
     "output_type": "stream",
     "text": [
      "Training Complete\n"
     ]
    },
    {
     "name": "stderr",
     "output_type": "stream",
     "text": [
      "\n"
     ]
    }
   ],
   "source": [
    "num_epochs = 300\n",
    "loss_values = []\n",
    "\n",
    "\n",
    "for epoch in tqdm(range(num_epochs)):\n",
    "    for X, y in train_dataloader:\n",
    "        X = X.to(\"cuda\")\n",
    "        y = y.to(\"cuda\")\n",
    "        # zero the parameter gradients\n",
    "        optimizer.zero_grad()\n",
    "        # forward + backward + optimize\n",
    "        pred = model(X)\n",
    "        loss = loss_fn(pred, y.unsqueeze(-1)[:,:,0])\n",
    "        loss_values.append(loss.item())\n",
    "        loss.backward()\n",
    "        optimizer.step()\n",
    "\n",
    "print(\"Training Complete\")"
   ]
  },
  {
   "cell_type": "code",
   "execution_count": 36,
   "id": "8c94dcd4-cad5-4c4c-aa09-5ae77c88261a",
   "metadata": {},
   "outputs": [],
   "source": [
    "model = model.to(\"cpu\")"
   ]
  },
  {
   "cell_type": "code",
   "execution_count": null,
   "id": "d80da1e5-9306-45bf-a1af-d993f18664fd",
   "metadata": {},
   "outputs": [
    {
     "name": "stderr",
     "output_type": "stream",
     "text": [
      " 31%|███       | 1442/4619 [00:31<01:02, 50.60it/s]"
     ]
    }
   ],
   "source": [
    "predictions = []\n",
    "\n",
    "for X, y in tqdm(train_dataloader):\n",
    "    pred = model(X)\n",
    "    predictions.append(pred.detach().numpy())"
   ]
  },
  {
   "cell_type": "code",
   "execution_count": null,
   "id": "9309eb1e-dbac-47c3-85ed-151ca71a0019",
   "metadata": {},
   "outputs": [],
   "source": [
    "df[\"predictions\"] = np.vstack(predictions)"
   ]
  },
  {
   "cell_type": "code",
   "execution_count": 39,
   "id": "020cb5c2-1d64-42ae-b936-68bbbab90e79",
   "metadata": {},
   "outputs": [],
   "source": [
    "df.to_csv(\"predictions.csv\")"
   ]
  },
  {
   "cell_type": "code",
   "execution_count": 45,
   "id": "801473c4-88d6-48e2-aeb5-0a331d3f426e",
   "metadata": {},
   "outputs": [],
   "source": [
    "ranked_lists = df.sort_values([\"user_id\", \"predictions\"], ascending=False).groupby(\"user_id\")[\"product_id\"].agg(list)"
   ]
  },
  {
   "cell_type": "markdown",
   "id": "9f437a24-3d8a-4924-a504-cca5ac85705e",
   "metadata": {},
   "source": [
    "top 10 sales"
   ]
  },
  {
   "cell_type": "code",
   "execution_count": 60,
   "id": "7f1e4380-182a-4949-b961-f5a744dae075",
   "metadata": {},
   "outputs": [],
   "source": [
    "top_20 = list(transactions.groupby(\"product_id\")[\"user_id\"].agg(\"count\").sort_values()[-20:].sort_values(ascending=False).keys())"
   ]
  },
  {
   "cell_type": "code",
   "execution_count": 73,
   "id": "46c22506-890e-4236-910e-0d7de713d265",
   "metadata": {},
   "outputs": [],
   "source": [
    "def fill_10(row):\n",
    "    if len(row) == 10:\n",
    "        return row.product_id\n",
    "    pids = row.product_id\n",
    "    diff = set(top_20) - set(pids)\n",
    "    unique_top_ranged = [p for p in top_20 if p in diff]\n",
    "    res = pids + unique_top_ranged\n",
    "    return res[:10]"
   ]
  },
  {
   "cell_type": "code",
   "execution_count": 68,
   "id": "edd381ee-ec33-4f30-8395-40aeadc90111",
   "metadata": {},
   "outputs": [],
   "source": [
    "ranked_lists = ranked_lists.reset_index()"
   ]
  },
  {
   "cell_type": "code",
   "execution_count": 77,
   "id": "0e7eca7d-1ae3-43b6-806d-b0b79d298cf3",
   "metadata": {},
   "outputs": [],
   "source": [
    "predictions_list = ranked_lists.apply(fill_10, axis=1)"
   ]
  },
  {
   "cell_type": "code",
   "execution_count": 82,
   "id": "daba2f91-0118-43ea-a5b1-b93d862401dd",
   "metadata": {},
   "outputs": [],
   "source": [
    "ranked_lists.product_id = predictions_list"
   ]
  },
  {
   "cell_type": "code",
   "execution_count": 84,
   "id": "925b7985-e7c5-4042-a2df-996795501fd1",
   "metadata": {},
   "outputs": [],
   "source": [
    "ranked_lists.product_id = ranked_lists.product_id.apply(lambda x: \" \".join(map(str, x)))"
   ]
  },
  {
   "cell_type": "code",
   "execution_count": 87,
   "id": "918aeef8-3447-419d-be43-9edf9f6e9871",
   "metadata": {},
   "outputs": [],
   "source": [
    "ranked_lists.columns = [\"user_id\", \"product_id\"]"
   ]
  },
  {
   "cell_type": "code",
   "execution_count": 89,
   "id": "babcd856-1f2e-4835-a3b5-06866937c734",
   "metadata": {},
   "outputs": [],
   "source": [
    "ranked_lists.to_csv(\"sample_submission_2.csv\", index=False)"
   ]
  }
 ],
 "metadata": {
  "kernelspec": {
   "display_name": "Python 3 (ipykernel)",
   "language": "python",
   "name": "python3"
  },
  "language_info": {
   "codemirror_mode": {
    "name": "ipython",
    "version": 3
   },
   "file_extension": ".py",
   "mimetype": "text/x-python",
   "name": "python",
   "nbconvert_exporter": "python",
   "pygments_lexer": "ipython3",
   "version": "3.10.8"
  }
 },
 "nbformat": 4,
 "nbformat_minor": 5
}
