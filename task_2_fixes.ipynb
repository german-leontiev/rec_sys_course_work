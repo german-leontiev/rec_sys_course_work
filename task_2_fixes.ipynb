{
 "cells": [
  {
   "cell_type": "code",
   "execution_count": 77,
   "id": "99fe8fd7-bfda-45b9-88a2-dd4ba3fc7189",
   "metadata": {},
   "outputs": [],
   "source": [
    "import pandas as pd"
   ]
  },
  {
   "cell_type": "code",
   "execution_count": 78,
   "id": "d5a4e42e-9d24-4af7-8c45-4fb694fd1513",
   "metadata": {},
   "outputs": [],
   "source": [
    "products = pd.read_csv(\"products.csv\")\n",
    "transactions = pd.read_csv(\"transactions.csv\")"
   ]
  },
  {
   "cell_type": "markdown",
   "id": "6dec75f8-c2d1-4702-ae75-755d2be26abb",
   "metadata": {},
   "source": [
    "Для пользователя - [id_пользователя, кол-во купленных продуктов, показатель перезаказов]\n",
    "Показатель перезаказов - это характеристика, отражающая процент продуктов, которые пользователь покупал больше 1 раза"
   ]
  },
  {
   "cell_type": "code",
   "execution_count": 79,
   "id": "9b6751e6-1362-402a-909b-0dfbaf40f722",
   "metadata": {},
   "outputs": [],
   "source": [
    "users_embeddings = transactions.groupby(\"user_id\").agg({\"product_id\": \"count\", \"reordered\": \"sum\"}).rename(columns={\"product_id\": \"n_bought\"}).reset_index()"
   ]
  },
  {
   "cell_type": "code",
   "execution_count": 80,
   "id": "10b68042-ca16-4e7f-a774-df59dd7123a7",
   "metadata": {},
   "outputs": [],
   "source": [
    "users_embeddings.reordered = users_embeddings.reordered / users_embeddings.n_bought"
   ]
  },
  {
   "cell_type": "markdown",
   "id": "39285a56-5915-4648-bfde-c760d19fe706",
   "metadata": {},
   "source": [
    "Для продуктов - [id продукта, процент перезаказа этого продукта среди всех пользователей, кол-во заказов данного продукта всеми пользователями, процент заказа данного продукта конкретным пользователем]"
   ]
  },
  {
   "cell_type": "code",
   "execution_count": 81,
   "id": "fbfd2576-7ad8-45e9-9d2e-4c665d4a7a8c",
   "metadata": {},
   "outputs": [],
   "source": [
    "products_embeddings = transactions.groupby(\"product_id\").agg({\"user_id\": \"count\", \"reordered\": \"sum\"})"
   ]
  },
  {
   "cell_type": "code",
   "execution_count": 82,
   "id": "65cee0fd-b414-495f-bd6b-373f3caaab2f",
   "metadata": {},
   "outputs": [],
   "source": [
    "products_embeddings[\"reordered\"] = products_embeddings.reordered / products_embeddings.user_id"
   ]
  },
  {
   "cell_type": "code",
   "execution_count": 83,
   "id": "d5caea7d-34c1-4c4f-a844-b656064ccd29",
   "metadata": {},
   "outputs": [],
   "source": [
    "products_embeddings.columns = [\"n_ordered\", \"reorder_coeff\"]"
   ]
  },
  {
   "cell_type": "code",
   "execution_count": 87,
   "id": "c5bb3482-28dd-4e13-bd5b-cb5a021e6423",
   "metadata": {},
   "outputs": [
    {
     "data": {
      "text/plain": [
       "n_ordered        260.000000\n",
       "reorder_coeff      0.392308\n",
       "Name: 138, dtype: float64"
      ]
     },
     "execution_count": 87,
     "metadata": {},
     "output_type": "execute_result"
    }
   ],
   "source": [
    "products_embeddings.loc[138]"
   ]
  },
  {
   "cell_type": "code",
   "execution_count": 88,
   "id": "cb3dbfc5-30fa-4820-ac3f-513576aff216",
   "metadata": {},
   "outputs": [],
   "source": [
    "products_embeddings.reset_index(inplace=True)"
   ]
  },
  {
   "cell_type": "markdown",
   "id": "9780c83f-4059-4abb-8dac-abddd935ffea",
   "metadata": {},
   "source": [
    "процент заказа данного продукта конкретным пользователем"
   ]
  },
  {
   "cell_type": "code",
   "execution_count": 89,
   "id": "936bcc99-b463-4a08-91e8-1035a29d792c",
   "metadata": {},
   "outputs": [],
   "source": [
    "product_user_coeff = transactions.groupby([\"user_id\", \"product_id\"]).agg({\"reordered\":\"count\"})"
   ]
  },
  {
   "cell_type": "code",
   "execution_count": 41,
   "id": "3df30b4e-726a-4050-93f0-f70ce4a16134",
   "metadata": {},
   "outputs": [],
   "source": [
    "product_user_coeff = product_user_coeff.reset_index().rename(columns={\"reordered\": \"user_ordered\"})"
   ]
  },
  {
   "cell_type": "code",
   "execution_count": 42,
   "id": "03dbcd79-a1f1-44df-ab6b-e5f8fef62459",
   "metadata": {},
   "outputs": [],
   "source": [
    "product_user_coeff = pd.merge(products_embeddings[[\"product_id\", \"n_ordered\"]], product_user_coeff, on=\"product_id\")"
   ]
  },
  {
   "cell_type": "code",
   "execution_count": 43,
   "id": "e7f8aac8-00cd-4c02-9831-838741e10fd7",
   "metadata": {},
   "outputs": [],
   "source": [
    "product_user_coeff[\"product_user_coeff\"] = product_user_coeff.user_ordered / product_user_coeff.n_ordered"
   ]
  },
  {
   "cell_type": "code",
   "execution_count": 44,
   "id": "72790b29-58e9-409a-9cbb-1f025b27f577",
   "metadata": {},
   "outputs": [],
   "source": [
    "product_user_coeff = product_user_coeff[[\"product_id\", \"user_id\", \"product_user_coeff\"]]"
   ]
  },
  {
   "cell_type": "code",
   "execution_count": 45,
   "id": "ee9b8554-15f5-4bc7-a2f5-3f5ff9af9bb5",
   "metadata": {},
   "outputs": [],
   "source": [
    "users_embeddings.columns = [\"user_id\", \"user_total_bought\", \"user_reorder_coeff\"]"
   ]
  },
  {
   "cell_type": "code",
   "execution_count": 46,
   "id": "c797e537-dd50-4c36-ae89-c3013b39e5be",
   "metadata": {},
   "outputs": [],
   "source": [
    "products_embeddings.columns = [\"product_id\", \"product_total_ordered\", \"product_reorder_coeff\"]"
   ]
  },
  {
   "cell_type": "code",
   "execution_count": 47,
   "id": "81a26d6d-6542-424a-be92-18bc693c049c",
   "metadata": {},
   "outputs": [],
   "source": [
    "product_user_coeff = pd.merge(product_user_coeff, users_embeddings, on=\"user_id\")"
   ]
  },
  {
   "cell_type": "code",
   "execution_count": 48,
   "id": "557fd797-3b4e-4a80-b997-f7825f48d99f",
   "metadata": {},
   "outputs": [],
   "source": [
    "product_user_coeff = pd.merge(product_user_coeff, products_embeddings, on=\"product_id\")"
   ]
  },
  {
   "cell_type": "markdown",
   "id": "e46038cb-5260-47e9-a8a5-885a06cc93d0",
   "metadata": {},
   "source": [
    "Для \"игреков\" можно например взять 1, если продукт был перезаказан, 0 , если не покупался/не перезаказывался "
   ]
  },
  {
   "cell_type": "code",
   "execution_count": 49,
   "id": "6fd04200-d331-4164-82ba-f13cff032551",
   "metadata": {},
   "outputs": [],
   "source": [
    "y = transactions.groupby([\"product_id\", \"user_id\"])[\"reordered\"].agg(\"max\").reset_index()"
   ]
  },
  {
   "cell_type": "code",
   "execution_count": 50,
   "id": "ca7b0824-4ec6-43a9-83fd-b01534cc2dc4",
   "metadata": {},
   "outputs": [],
   "source": [
    "y.columns = [\"product_id\", \"user_id\", \"reordered_target\"]"
   ]
  },
  {
   "cell_type": "code",
   "execution_count": 51,
   "id": "17a43f53-f725-4e7c-8a84-47860f62eed4",
   "metadata": {},
   "outputs": [],
   "source": [
    "df = pd.merge(product_user_coeff, y, on=[\"product_id\", \"user_id\"])"
   ]
  },
  {
   "cell_type": "code",
   "execution_count": 52,
   "id": "874a70b1-ee79-4c47-bcb2-2c44b6dd9a07",
   "metadata": {},
   "outputs": [
    {
     "data": {
      "text/html": [
       "<div>\n",
       "<style scoped>\n",
       "    .dataframe tbody tr th:only-of-type {\n",
       "        vertical-align: middle;\n",
       "    }\n",
       "\n",
       "    .dataframe tbody tr th {\n",
       "        vertical-align: top;\n",
       "    }\n",
       "\n",
       "    .dataframe thead th {\n",
       "        text-align: right;\n",
       "    }\n",
       "</style>\n",
       "<table border=\"1\" class=\"dataframe\">\n",
       "  <thead>\n",
       "    <tr style=\"text-align: right;\">\n",
       "      <th></th>\n",
       "      <th>product_id</th>\n",
       "      <th>user_id</th>\n",
       "      <th>product_user_coeff</th>\n",
       "      <th>user_total_bought</th>\n",
       "      <th>user_reorder_coeff</th>\n",
       "      <th>product_total_ordered</th>\n",
       "      <th>product_reorder_coeff</th>\n",
       "      <th>reordered_target</th>\n",
       "    </tr>\n",
       "  </thead>\n",
       "  <tbody>\n",
       "    <tr>\n",
       "      <th>0</th>\n",
       "      <td>1</td>\n",
       "      <td>138</td>\n",
       "      <td>0.001291</td>\n",
       "      <td>148</td>\n",
       "      <td>0.628378</td>\n",
       "      <td>1549</td>\n",
       "      <td>0.678502</td>\n",
       "      <td>1.0</td>\n",
       "    </tr>\n",
       "    <tr>\n",
       "      <th>1</th>\n",
       "      <td>1</td>\n",
       "      <td>777</td>\n",
       "      <td>0.000646</td>\n",
       "      <td>113</td>\n",
       "      <td>0.734513</td>\n",
       "      <td>1549</td>\n",
       "      <td>0.678502</td>\n",
       "      <td>0.0</td>\n",
       "    </tr>\n",
       "    <tr>\n",
       "      <th>2</th>\n",
       "      <td>1</td>\n",
       "      <td>1052</td>\n",
       "      <td>0.001291</td>\n",
       "      <td>48</td>\n",
       "      <td>0.500000</td>\n",
       "      <td>1549</td>\n",
       "      <td>0.678502</td>\n",
       "      <td>1.0</td>\n",
       "    </tr>\n",
       "    <tr>\n",
       "      <th>3</th>\n",
       "      <td>1</td>\n",
       "      <td>1480</td>\n",
       "      <td>0.001937</td>\n",
       "      <td>192</td>\n",
       "      <td>0.734375</td>\n",
       "      <td>1549</td>\n",
       "      <td>0.678502</td>\n",
       "      <td>1.0</td>\n",
       "    </tr>\n",
       "    <tr>\n",
       "      <th>4</th>\n",
       "      <td>1</td>\n",
       "      <td>1494</td>\n",
       "      <td>0.001937</td>\n",
       "      <td>158</td>\n",
       "      <td>0.550633</td>\n",
       "      <td>1549</td>\n",
       "      <td>0.678502</td>\n",
       "      <td>1.0</td>\n",
       "    </tr>\n",
       "  </tbody>\n",
       "</table>\n",
       "</div>"
      ],
      "text/plain": [
       "   product_id  user_id  product_user_coeff  user_total_bought  \\\n",
       "0           1      138            0.001291                148   \n",
       "1           1      777            0.000646                113   \n",
       "2           1     1052            0.001291                 48   \n",
       "3           1     1480            0.001937                192   \n",
       "4           1     1494            0.001937                158   \n",
       "\n",
       "   user_reorder_coeff  product_total_ordered  product_reorder_coeff  \\\n",
       "0            0.628378                   1549               0.678502   \n",
       "1            0.734513                   1549               0.678502   \n",
       "2            0.500000                   1549               0.678502   \n",
       "3            0.734375                   1549               0.678502   \n",
       "4            0.550633                   1549               0.678502   \n",
       "\n",
       "   reordered_target  \n",
       "0               1.0  \n",
       "1               0.0  \n",
       "2               1.0  \n",
       "3               1.0  \n",
       "4               1.0  "
      ]
     },
     "execution_count": 52,
     "metadata": {},
     "output_type": "execute_result"
    }
   ],
   "source": [
    "df.head()"
   ]
  },
  {
   "cell_type": "markdown",
   "id": "5e1a254e-13a1-475b-ac0f-111506316c0c",
   "metadata": {},
   "source": [
    "# Fix 0. `product_user_coeff`\n",
    "Поскульку надо разделить эмбеддинги, мы уберём эту фичу. Кроме того она неверно посчитана."
   ]
  },
  {
   "cell_type": "code",
   "execution_count": 53,
   "id": "32b65033-0d6f-40fb-b7fd-37265889d6dc",
   "metadata": {},
   "outputs": [],
   "source": [
    "df.drop(columns=[\"product_user_coeff\"], inplace=True)"
   ]
  },
  {
   "cell_type": "code",
   "execution_count": 56,
   "id": "fed3c7ea-a8cb-41ba-a184-0bf90dbef29a",
   "metadata": {},
   "outputs": [
    {
     "data": {
      "text/html": [
       "<div>\n",
       "<style scoped>\n",
       "    .dataframe tbody tr th:only-of-type {\n",
       "        vertical-align: middle;\n",
       "    }\n",
       "\n",
       "    .dataframe tbody tr th {\n",
       "        vertical-align: top;\n",
       "    }\n",
       "\n",
       "    .dataframe thead th {\n",
       "        text-align: right;\n",
       "    }\n",
       "</style>\n",
       "<table border=\"1\" class=\"dataframe\">\n",
       "  <thead>\n",
       "    <tr style=\"text-align: right;\">\n",
       "      <th></th>\n",
       "      <th>product_id</th>\n",
       "      <th>user_id</th>\n",
       "      <th>user_total_bought</th>\n",
       "      <th>user_reorder_coeff</th>\n",
       "      <th>product_total_ordered</th>\n",
       "      <th>product_reorder_coeff</th>\n",
       "      <th>reordered_target</th>\n",
       "    </tr>\n",
       "  </thead>\n",
       "  <tbody>\n",
       "    <tr>\n",
       "      <th>0</th>\n",
       "      <td>1</td>\n",
       "      <td>138</td>\n",
       "      <td>148</td>\n",
       "      <td>0.628378</td>\n",
       "      <td>1549</td>\n",
       "      <td>0.678502</td>\n",
       "      <td>1.0</td>\n",
       "    </tr>\n",
       "    <tr>\n",
       "      <th>1</th>\n",
       "      <td>1</td>\n",
       "      <td>777</td>\n",
       "      <td>113</td>\n",
       "      <td>0.734513</td>\n",
       "      <td>1549</td>\n",
       "      <td>0.678502</td>\n",
       "      <td>0.0</td>\n",
       "    </tr>\n",
       "    <tr>\n",
       "      <th>2</th>\n",
       "      <td>1</td>\n",
       "      <td>1052</td>\n",
       "      <td>48</td>\n",
       "      <td>0.500000</td>\n",
       "      <td>1549</td>\n",
       "      <td>0.678502</td>\n",
       "      <td>1.0</td>\n",
       "    </tr>\n",
       "    <tr>\n",
       "      <th>3</th>\n",
       "      <td>1</td>\n",
       "      <td>1480</td>\n",
       "      <td>192</td>\n",
       "      <td>0.734375</td>\n",
       "      <td>1549</td>\n",
       "      <td>0.678502</td>\n",
       "      <td>1.0</td>\n",
       "    </tr>\n",
       "    <tr>\n",
       "      <th>4</th>\n",
       "      <td>1</td>\n",
       "      <td>1494</td>\n",
       "      <td>158</td>\n",
       "      <td>0.550633</td>\n",
       "      <td>1549</td>\n",
       "      <td>0.678502</td>\n",
       "      <td>1.0</td>\n",
       "    </tr>\n",
       "  </tbody>\n",
       "</table>\n",
       "</div>"
      ],
      "text/plain": [
       "   product_id  user_id  user_total_bought  user_reorder_coeff  \\\n",
       "0           1      138                148            0.628378   \n",
       "1           1      777                113            0.734513   \n",
       "2           1     1052                 48            0.500000   \n",
       "3           1     1480                192            0.734375   \n",
       "4           1     1494                158            0.550633   \n",
       "\n",
       "   product_total_ordered  product_reorder_coeff  reordered_target  \n",
       "0                   1549               0.678502               1.0  \n",
       "1                   1549               0.678502               0.0  \n",
       "2                   1549               0.678502               1.0  \n",
       "3                   1549               0.678502               1.0  \n",
       "4                   1549               0.678502               1.0  "
      ]
     },
     "execution_count": 56,
     "metadata": {},
     "output_type": "execute_result"
    }
   ],
   "source": [
    "df.head()"
   ]
  },
  {
   "cell_type": "markdown",
   "id": "43349911-7100-4629-9847-79ae38dbaf9c",
   "metadata": {},
   "source": [
    "# Fix 1. Номализация"
   ]
  },
  {
   "cell_type": "code",
   "execution_count": null,
   "id": "552a37fc-527a-4b88-b403-fee871c9e6ad",
   "metadata": {},
   "outputs": [],
   "source": []
  },
  {
   "cell_type": "markdown",
   "id": "86908313-b82a-491e-8ce5-fd729c5d486b",
   "metadata": {},
   "source": [
    "давайте обсудим нейросеть: \n",
    "\n",
    "Достаточно использовать только dense слои\n",
    "\n",
    "модель должна принимать на вход эмбеддинги пользователя + эмбеддинги какого то продукта, на выходе получаем вероятность покупки этого продукта \n",
    "\n",
    "После для каждого пользователя сортируем все вероятности по убыванию и берем первые 10 \n",
    "\n",
    "Активация на выходе - сигмоид "
   ]
  },
  {
   "cell_type": "code",
   "execution_count": 54,
   "id": "64a6d393-0151-4594-8992-faea5ec12d26",
   "metadata": {},
   "outputs": [],
   "source": [
    "import warnings\n",
    "warnings.filterwarnings(\"ignore\")\n",
    "import torch\n",
    "import numpy as np\n",
    "from sklearn.model_selection import train_test_split"
   ]
  },
  {
   "cell_type": "markdown",
   "id": "f63922f2-4786-4b1d-afc9-7b1e2779cc05",
   "metadata": {},
   "source": [
    "# Fix 2. `user_id` и `product_id` включены в датасет"
   ]
  },
  {
   "cell_type": "code",
   "execution_count": 62,
   "id": "304c42df-9675-41ba-abf6-9187abe5ad4f",
   "metadata": {},
   "outputs": [],
   "source": [
    "Xp_cols = [\"product_id\", \"product_total_ordered\", \"product_reorder_coeff\"]"
   ]
  },
  {
   "cell_type": "code",
   "execution_count": 63,
   "id": "a7906947-6f0b-4f74-9ca1-30cac7e73fc4",
   "metadata": {},
   "outputs": [],
   "source": [
    "Xu_cols = [\"user_id\", \"user_total_bought\", \"user_reorder_coeff\"]"
   ]
  },
  {
   "cell_type": "code",
   "execution_count": 64,
   "id": "50d2fc59-9541-4efa-a244-35bd332e6199",
   "metadata": {},
   "outputs": [],
   "source": [
    "y_cols = [\"reordered_target\"]"
   ]
  },
  {
   "cell_type": "markdown",
   "id": "388cbf66-e5ab-40a8-8ed3-c59bdb20dad8",
   "metadata": {
    "tags": []
   },
   "source": [
    "# Fix 3. Эмбеддинги разделены на Xp и Xu"
   ]
  },
  {
   "cell_type": "code",
   "execution_count": 65,
   "id": "7749865b-7510-46c1-aea1-19a024c3fe78",
   "metadata": {},
   "outputs": [],
   "source": [
    "Xp = df[Xp_cols]\n",
    "Xu = df[Xu_cols]\n",
    "y = df[y_cols]"
   ]
  },
  {
   "cell_type": "code",
   "execution_count": null,
   "id": "12b435d3-4249-4c4c-85fb-2dde4db2d88e",
   "metadata": {},
   "outputs": [],
   "source": []
  },
  {
   "cell_type": "code",
   "execution_count": 66,
   "id": "090e66b9-ec1b-45db-a708-dd32ee539df6",
   "metadata": {},
   "outputs": [],
   "source": [
    "import torch\n",
    "import torch.nn as nn\n",
    "import torch.nn.functional as F"
   ]
  },
  {
   "cell_type": "code",
   "execution_count": 67,
   "id": "f874ed24-b28e-4fed-add7-31859374d00c",
   "metadata": {},
   "outputs": [],
   "source": [
    "class Net(nn.Module):\n",
    "\n",
    "    def __init__(self):\n",
    "        super(Net, self).__init__()\n",
    "        self.fc1 = nn.Linear(5, 120)\n",
    "        self.fc2 = nn.Linear(120, 120)\n",
    "        self.fc3 = nn.Linear(120, 120)\n",
    "        self.fc4 = nn.Linear(120, 120)\n",
    "        self.fc5 = nn.Linear(120, 120)\n",
    "        self.fc6 = nn.Linear(120, 84)\n",
    "        self.fc7 = nn.Linear(84, 1)\n",
    "\n",
    "    def forward(self, x):\n",
    "        x = F.relu(self.fc1(x))\n",
    "        x = F.relu(self.fc2(x))\n",
    "        x = F.relu(self.fc3(x))\n",
    "        x = F.relu(self.fc4(x))\n",
    "        x = F.relu(self.fc5(x))\n",
    "        x = F.relu(self.fc6(x))\n",
    "        x = F.sigmoid(self.fc7(x))\n",
    "        return x"
   ]
  },
  {
   "cell_type": "code",
   "execution_count": 68,
   "id": "b9d091bb-db1c-47de-8ad8-af7ef2cc49a6",
   "metadata": {},
   "outputs": [],
   "source": [
    "from torch.utils.data import Dataset, DataLoader\n",
    "\n",
    "# Convert data to torch tensors\n",
    "class Data(Dataset):\n",
    "    def __init__(self, X, y):\n",
    "        self.X = torch.from_numpy(X.astype(np.float32))\n",
    "        self.y = torch.from_numpy(y.astype(np.float32))\n",
    "        self.len = self.X.shape[0]\n",
    "       \n",
    "    def __getitem__(self, index):\n",
    "        return self.X[index], self.y[index]\n",
    "   \n",
    "    def __len__(self):\n",
    "        return self.len"
   ]
  },
  {
   "cell_type": "code",
   "execution_count": 69,
   "id": "e41133dc-a676-48b7-bb96-084ee9699d98",
   "metadata": {},
   "outputs": [],
   "source": [
    "model = Net()\n",
    "loss_fn = nn.BCELoss()"
   ]
  },
  {
   "cell_type": "code",
   "execution_count": 70,
   "id": "b003399a-e96c-45c4-a16c-30b4a9142264",
   "metadata": {},
   "outputs": [],
   "source": [
    "model = model.to(\"cuda\")"
   ]
  },
  {
   "cell_type": "code",
   "execution_count": 71,
   "id": "cec96848-e74b-41c4-a0b0-79a6f9ab4a61",
   "metadata": {},
   "outputs": [
    {
     "ename": "NameError",
     "evalue": "name 'X' is not defined",
     "output_type": "error",
     "traceback": [
      "\u001b[0;31m---------------------------------------------------------------------------\u001b[0m",
      "\u001b[0;31mNameError\u001b[0m                                 Traceback (most recent call last)",
      "Cell \u001b[0;32mIn[71], line 4\u001b[0m\n\u001b[1;32m      1\u001b[0m batch_size \u001b[38;5;241m=\u001b[39m \u001b[38;5;241m2048\u001b[39m\n\u001b[1;32m      3\u001b[0m \u001b[38;5;66;03m# Instantiate training and test data\u001b[39;00m\n\u001b[0;32m----> 4\u001b[0m train_data \u001b[38;5;241m=\u001b[39m Data(\u001b[43mX\u001b[49m\u001b[38;5;241m.\u001b[39mvalues, y\u001b[38;5;241m.\u001b[39mvalues)\n\u001b[1;32m      5\u001b[0m train_dataloader \u001b[38;5;241m=\u001b[39m DataLoader(dataset\u001b[38;5;241m=\u001b[39mtrain_data, batch_size\u001b[38;5;241m=\u001b[39mbatch_size, shuffle\u001b[38;5;241m=\u001b[39m\u001b[38;5;28;01mTrue\u001b[39;00m)\n\u001b[1;32m      7\u001b[0m \u001b[38;5;66;03m# test_data = Data(X_test.values, y_test.values)\u001b[39;00m\n\u001b[1;32m      8\u001b[0m \u001b[38;5;66;03m# test_dataloader = DataLoader(dataset=test_data, batch_size=batch_size, shuffle=True)\u001b[39;00m\n",
      "\u001b[0;31mNameError\u001b[0m: name 'X' is not defined"
     ]
    }
   ],
   "source": [
    "batch_size = 2048\n",
    "\n",
    "# Instantiate training and test data\n",
    "train_data = Data(X.values, y.values)\n",
    "train_dataloader = DataLoader(dataset=train_data, batch_size=batch_size, shuffle=True)\n",
    "\n",
    "# test_data = Data(X_test.values, y_test.values)\n",
    "# test_dataloader = DataLoader(dataset=test_data, batch_size=batch_size, shuffle=True)"
   ]
  },
  {
   "cell_type": "code",
   "execution_count": 72,
   "id": "d3a002a5-852e-4b7a-a146-9e5fcd4fe83a",
   "metadata": {},
   "outputs": [],
   "source": [
    "from tqdm import tqdm\n",
    "import torch.optim as optim"
   ]
  },
  {
   "cell_type": "markdown",
   "id": "f2df596f-0726-400b-876c-d19ffd26ca06",
   "metadata": {},
   "source": [
    "# Fix 4. Оптимизатор заменён на Adam"
   ]
  },
  {
   "cell_type": "code",
   "execution_count": 76,
   "id": "906950eb-8c96-4aab-8746-7877d8bfb800",
   "metadata": {},
   "outputs": [],
   "source": [
    "optimizer = optim.Adam(model.parameters(), lr=0.001)\n"
   ]
  },
  {
   "cell_type": "code",
   "execution_count": 35,
   "id": "e013a542-6049-47fe-9533-82f5f3d9c6c3",
   "metadata": {
    "tags": []
   },
   "outputs": [
    {
     "name": "stderr",
     "output_type": "stream",
     "text": [
      "100%|██████████| 300/300 [6:59:10<00:00, 83.83s/it]   "
     ]
    },
    {
     "name": "stdout",
     "output_type": "stream",
     "text": [
      "Training Complete\n"
     ]
    },
    {
     "name": "stderr",
     "output_type": "stream",
     "text": [
      "\n"
     ]
    }
   ],
   "source": [
    "num_epochs = 300\n",
    "loss_values = []\n",
    "\n",
    "\n",
    "for epoch in tqdm(range(num_epochs)):\n",
    "    for X, y in train_dataloader:\n",
    "        X = X.to(\"cuda\")\n",
    "        y = y.to(\"cuda\")\n",
    "        # zero the parameter gradients\n",
    "        optimizer.zero_grad()\n",
    "        # forward + backward + optimize\n",
    "        pred = model(X)\n",
    "        loss = loss_fn(pred, y.unsqueeze(-1)[:,:,0])\n",
    "        loss_values.append(loss.item())\n",
    "        loss.backward()\n",
    "        optimizer.step()\n",
    "\n",
    "print(\"Training Complete\")"
   ]
  },
  {
   "cell_type": "code",
   "execution_count": 36,
   "id": "8c94dcd4-cad5-4c4c-aa09-5ae77c88261a",
   "metadata": {},
   "outputs": [],
   "source": [
    "model = model.to(\"cpu\")"
   ]
  },
  {
   "cell_type": "code",
   "execution_count": null,
   "id": "d80da1e5-9306-45bf-a1af-d993f18664fd",
   "metadata": {},
   "outputs": [
    {
     "name": "stderr",
     "output_type": "stream",
     "text": [
      " 31%|███       | 1442/4619 [00:31<01:02, 50.60it/s]"
     ]
    }
   ],
   "source": [
    "predictions = []\n",
    "\n",
    "for X, y in tqdm(train_dataloader):\n",
    "    pred = model(X)\n",
    "    predictions.append(pred.detach().numpy())"
   ]
  },
  {
   "cell_type": "code",
   "execution_count": null,
   "id": "9309eb1e-dbac-47c3-85ed-151ca71a0019",
   "metadata": {},
   "outputs": [],
   "source": [
    "df[\"predictions\"] = np.vstack(predictions)"
   ]
  },
  {
   "cell_type": "code",
   "execution_count": 39,
   "id": "020cb5c2-1d64-42ae-b936-68bbbab90e79",
   "metadata": {},
   "outputs": [],
   "source": [
    "df.to_csv(\"predictions.csv\")"
   ]
  },
  {
   "cell_type": "code",
   "execution_count": 45,
   "id": "801473c4-88d6-48e2-aeb5-0a331d3f426e",
   "metadata": {},
   "outputs": [],
   "source": [
    "ranked_lists = df.sort_values([\"user_id\", \"predictions\"], ascending=False).groupby(\"user_id\")[\"product_id\"].agg(list)"
   ]
  },
  {
   "cell_type": "markdown",
   "id": "9f437a24-3d8a-4924-a504-cca5ac85705e",
   "metadata": {},
   "source": [
    "top 10 sales"
   ]
  },
  {
   "cell_type": "code",
   "execution_count": 60,
   "id": "7f1e4380-182a-4949-b961-f5a744dae075",
   "metadata": {},
   "outputs": [],
   "source": [
    "top_20 = list(transactions.groupby(\"product_id\")[\"user_id\"].agg(\"count\").sort_values()[-20:].sort_values(ascending=False).keys())"
   ]
  },
  {
   "cell_type": "code",
   "execution_count": 73,
   "id": "46c22506-890e-4236-910e-0d7de713d265",
   "metadata": {},
   "outputs": [],
   "source": [
    "def fill_10(row):\n",
    "    if len(row) == 10:\n",
    "        return row.product_id\n",
    "    pids = row.product_id\n",
    "    diff = set(top_20) - set(pids)\n",
    "    unique_top_ranged = [p for p in top_20 if p in diff]\n",
    "    res = pids + unique_top_ranged\n",
    "    return res[:10]"
   ]
  },
  {
   "cell_type": "code",
   "execution_count": 89,
   "id": "8353fdba-0378-4252-b7b9-946d535797ae",
   "metadata": {},
   "outputs": [],
   "source": [
    "ranked_lists = ranked_lists.reset_index()\n",
    "\n",
    "predictions_list = ranked_lists.apply(fill_10, axis=1)\n",
    "\n",
    "ranked_lists.product_id = predictions_list\n",
    "\n",
    "ranked_lists.product_id = ranked_lists.product_id.apply(lambda x: \" \".join(map(str, x)))\n",
    "\n",
    "ranked_lists.columns = [\"user_id\", \"product_id\"]\n",
    "\n",
    "ranked_lists.to_csv(\"sample_submission_2.csv\", index=False)"
   ]
  }
 ],
 "metadata": {
  "kernelspec": {
   "display_name": "Python 3 (ipykernel)",
   "language": "python",
   "name": "python3"
  },
  "language_info": {
   "codemirror_mode": {
    "name": "ipython",
    "version": 3
   },
   "file_extension": ".py",
   "mimetype": "text/x-python",
   "name": "python",
   "nbconvert_exporter": "python",
   "pygments_lexer": "ipython3",
   "version": "3.10.8"
  }
 },
 "nbformat": 4,
 "nbformat_minor": 5
}
