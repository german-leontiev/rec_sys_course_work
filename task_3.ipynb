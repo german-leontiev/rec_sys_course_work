{
 "cells": [
  {
   "cell_type": "code",
   "execution_count": 1,
   "id": "909c00c0-e68b-4c96-b8aa-c006830caf73",
   "metadata": {},
   "outputs": [],
   "source": [
    "import warnings\n",
    "warnings.filterwarnings(\"ignore\")\n",
    "\n",
    "import pandas as pd\n",
    "import numpy as np\n",
    "from sklearn.model_selection import train_test_split\n",
    "from sklearn import preprocessing\n",
    "import torch\n",
    "import torch.nn as nn\n",
    "import torch.nn.functional as F\n",
    "from torch.utils.data import Dataset, DataLoader\n",
    "from tqdm import tqdm\n",
    "import torch.optim as optim\n",
    "import pickle"
   ]
  },
  {
   "cell_type": "markdown",
   "id": "82f41d3f-b1ab-4b8f-845d-986a31712f76",
   "metadata": {},
   "source": [
    "# Подготовка датасета"
   ]
  },
  {
   "cell_type": "code",
   "execution_count": 2,
   "id": "9c3f5b0c-cae1-4d2b-bb37-08187c9baecc",
   "metadata": {},
   "outputs": [],
   "source": [
    "products = pd.read_csv(\"products.csv\")\n",
    "transactions = pd.read_csv(\"transactions.csv\")"
   ]
  },
  {
   "cell_type": "code",
   "execution_count": 3,
   "id": "e6505fc9-96de-4021-a15e-b36faa3051e1",
   "metadata": {},
   "outputs": [],
   "source": [
    "users_embeddings = transactions.groupby(\"user_id\").agg({\"product_id\": \"count\", \"reordered\": \"sum\"}).rename(columns={\"product_id\": \"n_bought\"}).reset_index()"
   ]
  },
  {
   "cell_type": "code",
   "execution_count": 4,
   "id": "e28c06d9-21fe-42a2-a7ff-194aa76b20e5",
   "metadata": {},
   "outputs": [
    {
     "data": {
      "text/plain": [
       "<bound method DataFrame.rename of        user_id  n_bought  reordered\n",
       "0            1        59       41.0\n",
       "1            2       195       93.0\n",
       "2            3        82       49.0\n",
       "3            7       206      138.0\n",
       "4           13        81       52.0\n",
       "...        ...       ...        ...\n",
       "99995   206202       183      120.0\n",
       "99996   206206       282      132.0\n",
       "99997   206207       210      118.0\n",
       "99998   206208       660      465.0\n",
       "99999   206209       129       61.0\n",
       "\n",
       "[100000 rows x 3 columns]>"
      ]
     },
     "execution_count": 4,
     "metadata": {},
     "output_type": "execute_result"
    }
   ],
   "source": [
    "users_embeddings.rename"
   ]
  },
  {
   "cell_type": "code",
   "execution_count": 5,
   "id": "00d0a7a5-66b2-4177-8592-95135aeffb6c",
   "metadata": {},
   "outputs": [],
   "source": [
    "products_embeddings = transactions.groupby(\"product_id\").agg({\"order_id\": \"count\", \"reordered\": \"sum\"}).reset_index()"
   ]
  },
  {
   "cell_type": "code",
   "execution_count": 6,
   "id": "f2ce1554-50fb-47ff-ad20-8661d64727b4",
   "metadata": {},
   "outputs": [],
   "source": [
    "y = transactions.groupby([\"product_id\", \"user_id\"])[\"reordered\"].agg(\"max\").reset_index()"
   ]
  },
  {
   "cell_type": "code",
   "execution_count": 7,
   "id": "33447b3f-9645-4d6d-b342-083dfd25df5a",
   "metadata": {},
   "outputs": [
    {
     "data": {
      "text/html": [
       "<div>\n",
       "<style scoped>\n",
       "    .dataframe tbody tr th:only-of-type {\n",
       "        vertical-align: middle;\n",
       "    }\n",
       "\n",
       "    .dataframe tbody tr th {\n",
       "        vertical-align: top;\n",
       "    }\n",
       "\n",
       "    .dataframe thead th {\n",
       "        text-align: right;\n",
       "    }\n",
       "</style>\n",
       "<table border=\"1\" class=\"dataframe\">\n",
       "  <thead>\n",
       "    <tr style=\"text-align: right;\">\n",
       "      <th></th>\n",
       "      <th>product_id</th>\n",
       "      <th>user_id</th>\n",
       "      <th>reordered</th>\n",
       "    </tr>\n",
       "  </thead>\n",
       "  <tbody>\n",
       "    <tr>\n",
       "      <th>0</th>\n",
       "      <td>1</td>\n",
       "      <td>138</td>\n",
       "      <td>1.0</td>\n",
       "    </tr>\n",
       "    <tr>\n",
       "      <th>1</th>\n",
       "      <td>1</td>\n",
       "      <td>777</td>\n",
       "      <td>0.0</td>\n",
       "    </tr>\n",
       "    <tr>\n",
       "      <th>2</th>\n",
       "      <td>1</td>\n",
       "      <td>1052</td>\n",
       "      <td>1.0</td>\n",
       "    </tr>\n",
       "    <tr>\n",
       "      <th>3</th>\n",
       "      <td>1</td>\n",
       "      <td>1480</td>\n",
       "      <td>1.0</td>\n",
       "    </tr>\n",
       "    <tr>\n",
       "      <th>4</th>\n",
       "      <td>1</td>\n",
       "      <td>1494</td>\n",
       "      <td>1.0</td>\n",
       "    </tr>\n",
       "    <tr>\n",
       "      <th>...</th>\n",
       "      <td>...</td>\n",
       "      <td>...</td>\n",
       "      <td>...</td>\n",
       "    </tr>\n",
       "    <tr>\n",
       "      <th>9459060</th>\n",
       "      <td>49688</td>\n",
       "      <td>178752</td>\n",
       "      <td>1.0</td>\n",
       "    </tr>\n",
       "    <tr>\n",
       "      <th>9459061</th>\n",
       "      <td>49688</td>\n",
       "      <td>184081</td>\n",
       "      <td>0.0</td>\n",
       "    </tr>\n",
       "    <tr>\n",
       "      <th>9459062</th>\n",
       "      <td>49688</td>\n",
       "      <td>187523</td>\n",
       "      <td>0.0</td>\n",
       "    </tr>\n",
       "    <tr>\n",
       "      <th>9459063</th>\n",
       "      <td>49688</td>\n",
       "      <td>188073</td>\n",
       "      <td>1.0</td>\n",
       "    </tr>\n",
       "    <tr>\n",
       "      <th>9459064</th>\n",
       "      <td>49688</td>\n",
       "      <td>200873</td>\n",
       "      <td>1.0</td>\n",
       "    </tr>\n",
       "  </tbody>\n",
       "</table>\n",
       "<p>9459065 rows × 3 columns</p>\n",
       "</div>"
      ],
      "text/plain": [
       "         product_id  user_id  reordered\n",
       "0                 1      138        1.0\n",
       "1                 1      777        0.0\n",
       "2                 1     1052        1.0\n",
       "3                 1     1480        1.0\n",
       "4                 1     1494        1.0\n",
       "...             ...      ...        ...\n",
       "9459060       49688   178752        1.0\n",
       "9459061       49688   184081        0.0\n",
       "9459062       49688   187523        0.0\n",
       "9459063       49688   188073        1.0\n",
       "9459064       49688   200873        1.0\n",
       "\n",
       "[9459065 rows x 3 columns]"
      ]
     },
     "execution_count": 7,
     "metadata": {},
     "output_type": "execute_result"
    }
   ],
   "source": [
    "y"
   ]
  },
  {
   "cell_type": "code",
   "execution_count": 8,
   "id": "e0430420-d25b-4445-a2b7-07feb961f848",
   "metadata": {},
   "outputs": [],
   "source": [
    "users_embeddings.rename(columns={\"reordered\": \"user_reorders\"}, inplace=True)"
   ]
  },
  {
   "cell_type": "code",
   "execution_count": 9,
   "id": "5736ef69-a7e8-4b73-8832-2f911d131c77",
   "metadata": {},
   "outputs": [],
   "source": [
    "products_embeddings.columns = [\"product_id\", \"product_total_orders\", \"protuct_total_reordered\"]"
   ]
  },
  {
   "cell_type": "code",
   "execution_count": 10,
   "id": "4802eca6-3113-4047-b1ed-f58438b4d3b1",
   "metadata": {},
   "outputs": [],
   "source": [
    "df = pd.merge(pd.merge(y, users_embeddings), products_embeddings)"
   ]
  },
  {
   "cell_type": "code",
   "execution_count": 11,
   "id": "fafa3d9e-dc4d-4ec7-8fd2-4962bdade07b",
   "metadata": {},
   "outputs": [
    {
     "data": {
      "text/html": [
       "<div>\n",
       "<style scoped>\n",
       "    .dataframe tbody tr th:only-of-type {\n",
       "        vertical-align: middle;\n",
       "    }\n",
       "\n",
       "    .dataframe tbody tr th {\n",
       "        vertical-align: top;\n",
       "    }\n",
       "\n",
       "    .dataframe thead th {\n",
       "        text-align: right;\n",
       "    }\n",
       "</style>\n",
       "<table border=\"1\" class=\"dataframe\">\n",
       "  <thead>\n",
       "    <tr style=\"text-align: right;\">\n",
       "      <th></th>\n",
       "      <th>product_id</th>\n",
       "      <th>user_id</th>\n",
       "      <th>reordered</th>\n",
       "      <th>n_bought</th>\n",
       "      <th>user_reorders</th>\n",
       "      <th>product_total_orders</th>\n",
       "      <th>protuct_total_reordered</th>\n",
       "    </tr>\n",
       "  </thead>\n",
       "  <tbody>\n",
       "    <tr>\n",
       "      <th>0</th>\n",
       "      <td>1</td>\n",
       "      <td>138</td>\n",
       "      <td>1.0</td>\n",
       "      <td>148</td>\n",
       "      <td>93.0</td>\n",
       "      <td>1549</td>\n",
       "      <td>1051.0</td>\n",
       "    </tr>\n",
       "    <tr>\n",
       "      <th>1</th>\n",
       "      <td>1</td>\n",
       "      <td>777</td>\n",
       "      <td>0.0</td>\n",
       "      <td>113</td>\n",
       "      <td>83.0</td>\n",
       "      <td>1549</td>\n",
       "      <td>1051.0</td>\n",
       "    </tr>\n",
       "    <tr>\n",
       "      <th>2</th>\n",
       "      <td>1</td>\n",
       "      <td>1052</td>\n",
       "      <td>1.0</td>\n",
       "      <td>48</td>\n",
       "      <td>24.0</td>\n",
       "      <td>1549</td>\n",
       "      <td>1051.0</td>\n",
       "    </tr>\n",
       "    <tr>\n",
       "      <th>3</th>\n",
       "      <td>1</td>\n",
       "      <td>1480</td>\n",
       "      <td>1.0</td>\n",
       "      <td>192</td>\n",
       "      <td>141.0</td>\n",
       "      <td>1549</td>\n",
       "      <td>1051.0</td>\n",
       "    </tr>\n",
       "    <tr>\n",
       "      <th>4</th>\n",
       "      <td>1</td>\n",
       "      <td>1494</td>\n",
       "      <td>1.0</td>\n",
       "      <td>158</td>\n",
       "      <td>87.0</td>\n",
       "      <td>1549</td>\n",
       "      <td>1051.0</td>\n",
       "    </tr>\n",
       "  </tbody>\n",
       "</table>\n",
       "</div>"
      ],
      "text/plain": [
       "   product_id  user_id  reordered  n_bought  user_reorders  \\\n",
       "0           1      138        1.0       148           93.0   \n",
       "1           1      777        0.0       113           83.0   \n",
       "2           1     1052        1.0        48           24.0   \n",
       "3           1     1480        1.0       192          141.0   \n",
       "4           1     1494        1.0       158           87.0   \n",
       "\n",
       "   product_total_orders  protuct_total_reordered  \n",
       "0                  1549                   1051.0  \n",
       "1                  1549                   1051.0  \n",
       "2                  1549                   1051.0  \n",
       "3                  1549                   1051.0  \n",
       "4                  1549                   1051.0  "
      ]
     },
     "execution_count": 11,
     "metadata": {},
     "output_type": "execute_result"
    }
   ],
   "source": [
    "df.head()"
   ]
  },
  {
   "cell_type": "code",
   "execution_count": 12,
   "id": "0dbe4fd8-2bfb-41b7-9de6-e0b91444abbe",
   "metadata": {},
   "outputs": [],
   "source": [
    "normalize = lambda x: preprocessing.MinMaxScaler().fit(x).transform(x)"
   ]
  },
  {
   "cell_type": "code",
   "execution_count": 13,
   "id": "31297667-e2ac-4966-85bf-9d1ef82060a0",
   "metadata": {},
   "outputs": [],
   "source": [
    "Xp = normalize(df[products_embeddings.columns])\n",
    "Xu = normalize(df[users_embeddings.columns])\n",
    "y = normalize(df[[\"reordered\"]])"
   ]
  },
  {
   "cell_type": "markdown",
   "id": "6cf5b998-464b-4231-8592-54f68bc5da17",
   "metadata": {},
   "source": [
    "# Обучение нейросети"
   ]
  },
  {
   "cell_type": "code",
   "execution_count": 14,
   "id": "0e8ca970-203f-4f8a-8525-f7001840b2d0",
   "metadata": {},
   "outputs": [],
   "source": [
    "class Net(nn.Module):\n",
    "\n",
    "    def __init__(self):\n",
    "        super(Net, self).__init__()\n",
    "        self.fc1 = nn.Linear(6, 64)\n",
    "        self.fc2 = nn.Linear(64, 128)\n",
    "        self.fc3 = nn.Linear(128, 128)\n",
    "        self.fc4 = nn.Linear(128, 64)\n",
    "        self.fc5 = nn.Linear(64, 1)\n",
    "\n",
    "    def forward(self, xu, xp):\n",
    "        x = torch.cat((xu, xp), 1)\n",
    "        x = F.relu(self.fc1(x))\n",
    "        x = F.relu(self.fc2(x))\n",
    "        x = F.relu(self.fc3(x))\n",
    "        x = F.relu(self.fc3(x))\n",
    "        x = F.relu(self.fc3(x))\n",
    "        x = F.relu(self.fc4(x))\n",
    "        x = F.sigmoid(self.fc5(x))\n",
    "        return x"
   ]
  },
  {
   "cell_type": "code",
   "execution_count": 15,
   "id": "f4a29036-02fc-4194-a314-12724975baec",
   "metadata": {},
   "outputs": [],
   "source": [
    "# Convert data to torch tensors\n",
    "class Data(Dataset):\n",
    "    def __init__(self, X, y):\n",
    "        self.xu = torch.from_numpy(X[0].astype(np.float32))\n",
    "        self.xp = torch.from_numpy(X[1].astype(np.float32))\n",
    "        self.y = torch.from_numpy(y.astype(np.float32))\n",
    "        self.len = self.xu.shape[0]\n",
    "       \n",
    "    def __getitem__(self, index):\n",
    "        return self.xu[index], self.xp[index], self.y[index]\n",
    "   \n",
    "    def __len__(self):\n",
    "        return self.len"
   ]
  },
  {
   "cell_type": "code",
   "execution_count": 16,
   "id": "6d02409c-b526-4d9f-963c-8046bfc8387c",
   "metadata": {},
   "outputs": [],
   "source": [
    "model = Net()\n",
    "loss_fn = nn.BCELoss()\n",
    "model = model.to(\"cuda\")"
   ]
  },
  {
   "cell_type": "code",
   "execution_count": 17,
   "id": "a02ccffa-9801-4faa-b9d2-048698c6738c",
   "metadata": {},
   "outputs": [],
   "source": [
    "batch_size = 1024 * 128\n",
    "\n",
    "# Instantiate training and test data\n",
    "train_data = Data([Xu, Xp], y)\n",
    "train_dataloader = DataLoader(dataset=train_data, batch_size=batch_size, shuffle=True)"
   ]
  },
  {
   "cell_type": "code",
   "execution_count": 18,
   "id": "10516705-b33f-4f7e-a975-7b287e289529",
   "metadata": {},
   "outputs": [],
   "source": [
    "optimizer = optim.Adam(model.parameters(), lr=0.001)"
   ]
  },
  {
   "cell_type": "code",
   "execution_count": null,
   "id": "047bb772-1463-4b6c-b891-fd88d2a71292",
   "metadata": {},
   "outputs": [],
   "source": [
    "num_epochs = 30\n",
    "loss_values = []\n",
    "\n",
    "for epoch in tqdm(range(num_epochs)):\n",
    "    for xu, xp, y in train_dataloader:\n",
    "        xu = xu.to(\"cuda\")\n",
    "        xp = xp.to(\"cuda\")\n",
    "        y = y.to(\"cuda\")\n",
    "        # zero the parameter gradients\n",
    "        optimizer.zero_grad()\n",
    "        # forward + backward + optimize\n",
    "        pred = model(xu, xp)\n",
    "        loss = loss_fn(pred, y.unsqueeze(-1)[:,:,0])\n",
    "        loss_values.append(loss.item())\n",
    "        loss.backward()\n",
    "        optimizer.step()"
   ]
  },
  {
   "cell_type": "code",
   "execution_count": 27,
   "id": "326768ed-519a-4725-996f-e641ac147926",
   "metadata": {},
   "outputs": [
    {
     "data": {
      "image/png": "[encoded data removed]",
      "text/plain": [
       "<Figure size 640x480 with 1 Axes>"
      ]
     },
     "metadata": {},
     "output_type": "display_data"
    }
   ],
   "source": [
    "from matplotlib import pyplot as plt\n",
    "plt.plot(loss_values)\n",
    "plt.show()"
   ]
  },
  {
   "cell_type": "markdown",
   "id": "85ba44f5-87a5-47a8-81a6-aea60a75609f",
   "metadata": {},
   "source": [
    "# Предсказания"
   ]
  },
  {
   "cell_type": "code",
   "execution_count": 28,
   "id": "63208e58-38b9-4e61-82f8-2c86cdb9f795",
   "metadata": {},
   "outputs": [],
   "source": [
    "model = model.to(\"cpu\")"
   ]
  },
  {
   "cell_type": "code",
   "execution_count": 29,
   "id": "10242ffb-2629-4a87-8689-d15b79533a3a",
   "metadata": {},
   "outputs": [],
   "source": [
    "with open(\"model.pkl\", \"wb\") as f:\n",
    "    pickle.dump(model, f)"
   ]
  },
  {
   "cell_type": "code",
   "execution_count": 30,
   "id": "afefd2f3-7271-41d1-8cd1-63d512fa9ed2",
   "metadata": {},
   "outputs": [
    {
     "name": "stderr",
     "output_type": "stream",
     "text": [
      "100%|██████████| 73/73 [02:01<00:00,  1.67s/it]\n"
     ]
    }
   ],
   "source": [
    "predictions = []\n",
    "\n",
    "for xu, xp, y in tqdm(train_dataloader):\n",
    "    pred = model(xu, xp)\n",
    "    predictions.append(pred.detach().numpy())"
   ]
  },
  {
   "cell_type": "code",
   "execution_count": 31,
   "id": "ea50aee5-c06c-4c5c-b23c-612b38dbd7fb",
   "metadata": {},
   "outputs": [],
   "source": [
    "df[\"predictions\"] = np.vstack(predictions)"
   ]
  },
  {
   "cell_type": "code",
   "execution_count": 32,
   "id": "8569f4c3-8450-443b-8a24-33d3864a6d4b",
   "metadata": {},
   "outputs": [],
   "source": [
    "ranked_lists = df.sort_values([\"user_id\", \"predictions\"], ascending=False).groupby(\"user_id\")[\"product_id\"].agg(list)"
   ]
  },
  {
   "cell_type": "code",
   "execution_count": 33,
   "id": "0b19dc6e-6cac-4f58-85a9-f595d83b349d",
   "metadata": {},
   "outputs": [],
   "source": [
    "df.to_csv(\"predictions_.csv\")"
   ]
  },
  {
   "cell_type": "markdown",
   "id": "5d410ec0-7062-4d2f-a07f-4b3bfa46b6fe",
   "metadata": {},
   "source": [
    "top 10 sales"
   ]
  },
  {
   "cell_type": "code",
   "execution_count": 34,
   "id": "7f4ef7e2-daba-4bc8-bbd5-b435e5b14a28",
   "metadata": {},
   "outputs": [],
   "source": [
    "top_20 = list(transactions.groupby(\"product_id\")[\"user_id\"].agg(\"count\").sort_values()[-20:].sort_values(ascending=False).keys())"
   ]
  },
  {
   "cell_type": "code",
   "execution_count": 35,
   "id": "3ddd9e25-cb95-43cd-a2c6-f379916ed2e9",
   "metadata": {},
   "outputs": [],
   "source": [
    "def fill_10(row):\n",
    "    if len(row) == 10:\n",
    "        return row.product_id\n",
    "    pids = row.product_id\n",
    "    diff = set(top_20) - set(pids)\n",
    "    unique_top_ranged = [p for p in top_20 if p in diff]\n",
    "    res = pids + unique_top_ranged\n",
    "    return res[:10]"
   ]
  },
  {
   "cell_type": "code",
   "execution_count": 36,
   "id": "bfada0ff-49b8-4ee9-8174-946ba9e1a399",
   "metadata": {},
   "outputs": [],
   "source": [
    "ranked_lists = ranked_lists.reset_index()\n",
    "predictions_list = ranked_lists.apply(fill_10, axis=1)\n",
    "ranked_lists.product_id = predictions_list\n",
    "ranked_lists.product_id = ranked_lists.product_id.apply(lambda x: \" \".join(map(str, x)))\n",
    "ranked_lists.columns = [\"user_id\", \"product_id\"]\n",
    "ranked_lists.to_csv(\"sample_submission_3.csv\", index=False)"
   ]
  },
  {
   "cell_type": "code",
   "execution_count": null,
   "id": "f6b15844-4b4f-4521-84e8-b728ce68009f",
   "metadata": {},
   "outputs": [],
   "source": []
  }
 ],
 "metadata": {
  "kernelspec": {
   "display_name": "Python 3 (ipykernel)",
   "language": "python",
   "name": "python3"
  },
  "language_info": {
   "codemirror_mode": {
    "name": "ipython",
    "version": 3
   },
   "file_extension": ".py",
   "mimetype": "text/x-python",
   "name": "python",
   "nbconvert_exporter": "python",
   "pygments_lexer": "ipython3",
   "version": "3.10.8"
  }
 },
 "nbformat": 4,
 "nbformat_minor": 5
}
