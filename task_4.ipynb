{
 "cells": [
  {
   "cell_type": "code",
   "execution_count": 3,
   "id": "4637fba8-52fe-4759-83a5-98312c053429",
   "metadata": {},
   "outputs": [
    {
     "name": "stderr",
     "output_type": "stream",
     "text": [
      "/home/germa/miniconda3/lib/python3.10/site-packages/tqdm/auto.py:22: TqdmWarning: IProgress not found. Please update jupyter and ipywidgets. See https://ipywidgets.readthedocs.io/en/stable/user_install.html\n",
      "  from .autonotebook import tqdm as notebook_tqdm\n"
     ]
    }
   ],
   "source": [
    "import numpy as np\n",
    "import scipy.sparse as sparse\n",
    "from r_sys.utils.prepare_data import Data_worker\n",
    "from tqdm import tqdm\n",
    "import pandas as pd\n",
    "import implicit\n",
    "import pickle"
   ]
  },
  {
   "cell_type": "code",
   "execution_count": 4,
   "id": "772e8b7a-7fc2-4edb-9b51-1aabca95a8de",
   "metadata": {},
   "outputs": [],
   "source": [
    "class Knn:\n",
    "    def __init__(self, data, K=1):\n",
    "        \"\"\"\n",
    "        Модель на основе алгоритма ближайших соседей\n",
    "        K - количество соседей\n",
    "        data - model_df\n",
    "        \"\"\"\n",
    "        self.K = K\n",
    "        self.data = data\n",
    "        self.create_sprace_arrays()\n",
    "\n",
    "    def create_sprace_arrays(self):\n",
    "        \"\"\"\n",
    "        Создание разряженных матриц\n",
    "        \"\"\"\n",
    "        self.sparse_item_user = sparse.csr_matrix(\n",
    "            (\n",
    "                self.data[\"count\"].astype(float),\n",
    "                (self.data[\"product\"], self.data[\"user\"]),\n",
    "            )\n",
    "        )\n",
    "        self.sparse_user_item = sparse.csr_matrix(\n",
    "            (\n",
    "                self.data[\"count\"].astype(float),\n",
    "                (self.data[\"user\"], self.data[\"product\"]),\n",
    "            )\n",
    "        )\n",
    "        print(self.sparse_item_user.shape)\n",
    "\n",
    "    def fit(self):\n",
    "        \"\"\"\n",
    "        Обучение модели\n",
    "        \"\"\"\n",
    "        self.model = implicit.nearest_neighbours.CosineRecommender(K=self.K)\n",
    "        self.model.fit(self.sparse_item_user)\n",
    "\n",
    "    def predict_all(self, uniq_users, encode_products, encode_users, n=10):\n",
    "        \"\"\"\n",
    "        предсказать продукты для всех user в массиве uniq_users\n",
    "        n - количество предлагаемых продуктов\n",
    "        \"\"\"\n",
    "\n",
    "        users_dict = {}\n",
    "        for user in tqdm(uniq_users):\n",
    "            decode_user = encode_users[encode_users[\"user_id\"] == user][\"user\"].iloc[0]\n",
    "            recommended = self.model.recommend(\n",
    "                decode_user,\n",
    "                self.sparse_user_item,\n",
    "                filter_already_liked_items=False,\n",
    "                recalculate_user=True,\n",
    "                N=n,\n",
    "            )\n",
    "            user_rec_items = []\n",
    "            for item in recommended:\n",
    "                idx, score = item\n",
    "                rec_item = (\n",
    "                    encode_products[\"product_id\"]\n",
    "                    .loc[encode_products[\"product\"] == idx]\n",
    "                    .iloc[0]\n",
    "                )\n",
    "                user_rec_items.append(rec_item)\n",
    "            users_dict[user] = user_rec_items\n",
    "        return users_dict\n",
    "\n",
    "    def predict_for_user(self, user, encode_products, encode_users, n=10):\n",
    "        \"\"\"\n",
    "        предсказать продукты для конкретного пользователя\n",
    "        n - количество предлагаемых продуктов\n",
    "        \"\"\"\n",
    "        users_dict = {}\n",
    "        decode_user = encode_users[encode_users[\"user_id\"] == user][\"user\"].iloc[0]\n",
    "        recommended = self.model.recommend(\n",
    "            decode_user,\n",
    "            self.sparse_user_item,\n",
    "            N=n,\n",
    "            filter_already_liked_items=False,\n",
    "            recalculate_user=True,\n",
    "        )\n",
    "        user_rec_items = []\n",
    "        for item in recommended:\n",
    "            idx, score = item\n",
    "            rec_item = (\n",
    "                encode_products[\"product_id\"]\n",
    "                .loc[encode_products[\"product\"] == idx]\n",
    "                .iloc[0]\n",
    "            )\n",
    "            user_rec_items.append(rec_item)\n",
    "        users_dict[user] = user_rec_items\n",
    "        return users_dict\n",
    "\n",
    "    def create_submission(\n",
    "        self, users_dict, uniq_users, path=\"results/nearest_neighbours25.csv\"\n",
    "    ):\n",
    "        \"\"\"\n",
    "        Создание структуры для отправки на Kaggle\n",
    "        \"\"\"\n",
    "        for user in uniq_users:\n",
    "            if user in users_dict.keys():\n",
    "                users_dict[user] = \" \".join(str(x) for x in users_dict[user])\n",
    "        df_sub = pd.DataFrame(users_dict.items(), columns=[\"user_id\", \"product_id\"])\n",
    "        df_sub.to_csv(path, index=False)\n",
    "\n",
    "    def save_model(self, weights_path):\n",
    "        self.model.save(weights_path)\n",
    "\n",
    "    def load_model(self, weights_path):\n",
    "        self.model = implicit.nearest_neighbours.CosineRecommender(K=self.K)\n",
    "        self.model.load(weights_path)"
   ]
  },
  {
   "cell_type": "code",
   "execution_count": 6,
   "id": "09059e56-b121-4090-b7af-51805af1b2a5",
   "metadata": {},
   "outputs": [
    {
     "name": "stdout",
     "output_type": "stream",
     "text": [
      "Успешно считаны подсчитанные данные\n",
      "Набор данных для обучения модели создан успешно\n",
      "Успешно считаны данные для обучения модели\n",
      "Успешно считаны данные для декодирования продуктов\n",
      "Успешно считаны данные для декодирования пользователей\n",
      "Уникальные пользователи считаны успешно\n",
      "(49465, 100000)\n"
     ]
    },
    {
     "name": "stderr",
     "output_type": "stream",
     "text": [
      "/home/germa/miniconda3/lib/python3.10/site-packages/implicit/nearest_neighbours.py:231: RuntimeWarning: invalid value encountered in divide\n",
      "  X.data = X.data / sqrt(bincount(X.row, X.data**2))[X.row]\n",
      "/home/germa/miniconda3/lib/python3.10/site-packages/implicit/utils.py:138: ParameterWarning: Method expects CSR input, and was passed coo_matrix instead. Converting to CSR took 0.05006814002990723 seconds\n",
      "  warnings.warn(\n",
      "100%|██████████| 100000/100000 [01:58<00:00, 846.57it/s]\n"
     ]
    }
   ],
   "source": [
    "d = Data_worker()\n",
    "\n",
    "d.read_counted_df()\n",
    "d.modef_df_to_csv()\n",
    "d.read_model_df()\n",
    "d.read_products_encode_df()\n",
    "d.read_user_encode_df()\n",
    "d.read_uniq_users()\n",
    "data = d.model_df\n",
    "k = Knn(data, K=1)\n",
    "k.fit()\n",
    "k.save_model(weights_path=\"weights/knn_model\")\n",
    "k.load_model(weights_path=\"weights/knn_model\")"
   ]
  },
  {
   "cell_type": "code",
   "execution_count": 8,
   "id": "010ebb15-b240-4508-b180-56017ca4ff9b",
   "metadata": {},
   "outputs": [
    {
     "data": {
      "text/plain": [
       "array([     1,      2,      3, ..., 206207, 206208, 206209])"
      ]
     },
     "execution_count": 8,
     "metadata": {},
     "output_type": "execute_result"
    }
   ],
   "source": [
    "d.uniq_users"
   ]
  },
  {
   "cell_type": "code",
   "execution_count": 17,
   "id": "eceb97a4-d8ac-4594-8a16-3a9291625309",
   "metadata": {},
   "outputs": [
    {
     "ename": "TypeError",
     "evalue": "ItemItemRecommender.recommend() missing 2 required positional arguments: 'userid' and 'user_items'",
     "output_type": "error",
     "traceback": [
      "\u001b[0;31m---------------------------------------------------------------------------\u001b[0m",
      "\u001b[0;31mTypeError\u001b[0m                                 Traceback (most recent call last)",
      "Cell \u001b[0;32mIn[17], line 1\u001b[0m\n\u001b[0;32m----> 1\u001b[0m \u001b[43mk\u001b[49m\u001b[38;5;241;43m.\u001b[39;49m\u001b[43mmodel\u001b[49m\u001b[38;5;241;43m.\u001b[39;49m\u001b[43mrecommend\u001b[49m\u001b[43m(\u001b[49m\u001b[43m)\u001b[49m\n",
      "\u001b[0;31mTypeError\u001b[0m: ItemItemRecommender.recommend() missing 2 required positional arguments: 'userid' and 'user_items'"
     ]
    }
   ],
   "source": [
    "k.model.recommend()"
   ]
  },
  {
   "cell_type": "code",
   "execution_count": 11,
   "id": "16235b52-0714-42e2-b883-e1cfa9a5d72a",
   "metadata": {},
   "outputs": [
    {
     "name": "stderr",
     "output_type": "stream",
     "text": [
      "  0%|          | 0/100000 [00:00<?, ?it/s]\n"
     ]
    },
    {
     "ename": "AttributeError",
     "evalue": "'NoneType' object has no attribute 'recommend'",
     "output_type": "error",
     "traceback": [
      "\u001b[0;31m---------------------------------------------------------------------------\u001b[0m",
      "\u001b[0;31mAttributeError\u001b[0m                            Traceback (most recent call last)",
      "Cell \u001b[0;32mIn[11], line 1\u001b[0m\n\u001b[0;32m----> 1\u001b[0m asd \u001b[38;5;241m=\u001b[39m \u001b[43mk\u001b[49m\u001b[38;5;241;43m.\u001b[39;49m\u001b[43mpredict_all\u001b[49m\u001b[43m(\u001b[49m\u001b[43md\u001b[49m\u001b[38;5;241;43m.\u001b[39;49m\u001b[43muniq_users\u001b[49m\u001b[43m,\u001b[49m\u001b[43m \u001b[49m\u001b[43md\u001b[49m\u001b[38;5;241;43m.\u001b[39;49m\u001b[43mencode_products\u001b[49m\u001b[43m,\u001b[49m\u001b[43m \u001b[49m\u001b[43md\u001b[49m\u001b[38;5;241;43m.\u001b[39;49m\u001b[43mencode_users\u001b[49m\u001b[43m)\u001b[49m\n",
      "Cell \u001b[0;32mIn[4], line 46\u001b[0m, in \u001b[0;36mKnn.predict_all\u001b[0;34m(self, uniq_users, encode_products, encode_users, n)\u001b[0m\n\u001b[1;32m     44\u001b[0m \u001b[38;5;28;01mfor\u001b[39;00m user \u001b[38;5;129;01min\u001b[39;00m tqdm(uniq_users):\n\u001b[1;32m     45\u001b[0m     decode_user \u001b[38;5;241m=\u001b[39m encode_users[encode_users[\u001b[38;5;124m\"\u001b[39m\u001b[38;5;124muser_id\u001b[39m\u001b[38;5;124m\"\u001b[39m] \u001b[38;5;241m==\u001b[39m user][\u001b[38;5;124m\"\u001b[39m\u001b[38;5;124muser\u001b[39m\u001b[38;5;124m\"\u001b[39m]\u001b[38;5;241m.\u001b[39miloc[\u001b[38;5;241m0\u001b[39m]\n\u001b[0;32m---> 46\u001b[0m     recommended \u001b[38;5;241m=\u001b[39m \u001b[38;5;28;43mself\u001b[39;49m\u001b[38;5;241;43m.\u001b[39;49m\u001b[43mmodel\u001b[49m\u001b[38;5;241;43m.\u001b[39;49m\u001b[43mrecommend\u001b[49m\u001b[43m(\u001b[49m\n\u001b[1;32m     47\u001b[0m \u001b[43m        \u001b[49m\u001b[43mdecode_user\u001b[49m\u001b[43m,\u001b[49m\n\u001b[1;32m     48\u001b[0m \u001b[43m        \u001b[49m\u001b[38;5;28;43mself\u001b[39;49m\u001b[38;5;241;43m.\u001b[39;49m\u001b[43msparse_user_item\u001b[49m\u001b[43m,\u001b[49m\n\u001b[1;32m     49\u001b[0m \u001b[43m        \u001b[49m\u001b[43mfilter_already_liked_items\u001b[49m\u001b[38;5;241;43m=\u001b[39;49m\u001b[38;5;28;43;01mFalse\u001b[39;49;00m\u001b[43m,\u001b[49m\n\u001b[1;32m     50\u001b[0m \u001b[43m        \u001b[49m\u001b[43mrecalculate_user\u001b[49m\u001b[38;5;241;43m=\u001b[39;49m\u001b[38;5;28;43;01mTrue\u001b[39;49;00m\u001b[43m,\u001b[49m\n\u001b[1;32m     51\u001b[0m \u001b[43m        \u001b[49m\u001b[43mN\u001b[49m\u001b[38;5;241;43m=\u001b[39;49m\u001b[43mn\u001b[49m\u001b[43m,\u001b[49m\n\u001b[1;32m     52\u001b[0m \u001b[43m    \u001b[49m\u001b[43m)\u001b[49m\n\u001b[1;32m     53\u001b[0m     user_rec_items \u001b[38;5;241m=\u001b[39m []\n\u001b[1;32m     54\u001b[0m     \u001b[38;5;28;01mfor\u001b[39;00m item \u001b[38;5;129;01min\u001b[39;00m recommended:\n",
      "File \u001b[0;32m~/miniconda3/lib/python3.10/site-packages/implicit/nearest_neighbours.py:83\u001b[0m, in \u001b[0;36mItemItemRecommender.recommend\u001b[0;34m(self, userid, user_items, N, filter_already_liked_items, filter_items, recalculate_user, items)\u001b[0m\n\u001b[1;32m     80\u001b[0m     \u001b[38;5;28;01mif\u001b[39;00m items\u001b[38;5;241m.\u001b[39mmax() \u001b[38;5;241m>\u001b[39m\u001b[38;5;241m=\u001b[39m N \u001b[38;5;129;01mor\u001b[39;00m items\u001b[38;5;241m.\u001b[39mmin() \u001b[38;5;241m<\u001b[39m \u001b[38;5;241m0\u001b[39m:\n\u001b[1;32m     81\u001b[0m         \u001b[38;5;28;01mraise\u001b[39;00m \u001b[38;5;167;01mIndexError\u001b[39;00m(\u001b[38;5;124m\"\u001b[39m\u001b[38;5;124mSome of selected itemids are not in the model\u001b[39m\u001b[38;5;124m\"\u001b[39m)\n\u001b[0;32m---> 83\u001b[0m ids, scores \u001b[38;5;241m=\u001b[39m \u001b[38;5;28;43mself\u001b[39;49m\u001b[38;5;241;43m.\u001b[39;49m\u001b[43mscorer\u001b[49m\u001b[38;5;241;43m.\u001b[39;49m\u001b[43mrecommend\u001b[49m(\n\u001b[1;32m     84\u001b[0m     user_items\u001b[38;5;241m.\u001b[39mindptr,\n\u001b[1;32m     85\u001b[0m     user_items\u001b[38;5;241m.\u001b[39mindices,\n\u001b[1;32m     86\u001b[0m     user_items\u001b[38;5;241m.\u001b[39mdata,\n\u001b[1;32m     87\u001b[0m     K\u001b[38;5;241m=\u001b[39mN,\n\u001b[1;32m     88\u001b[0m     remove_own_likes\u001b[38;5;241m=\u001b[39mfilter_already_liked_items,\n\u001b[1;32m     89\u001b[0m )\n\u001b[1;32m     91\u001b[0m \u001b[38;5;28;01mif\u001b[39;00m filter_items \u001b[38;5;129;01mis\u001b[39;00m \u001b[38;5;129;01mnot\u001b[39;00m \u001b[38;5;28;01mNone\u001b[39;00m:\n\u001b[1;32m     92\u001b[0m     mask \u001b[38;5;241m=\u001b[39m np\u001b[38;5;241m.\u001b[39min1d(ids, filter_items, invert\u001b[38;5;241m=\u001b[39m\u001b[38;5;28;01mTrue\u001b[39;00m)\n",
      "\u001b[0;31mAttributeError\u001b[0m: 'NoneType' object has no attribute 'recommend'"
     ]
    }
   ],
   "source": [
    "asd = k.predict_all(d.uniq_users, d.encode_products, d.encode_users)"
   ]
  },
  {
   "cell_type": "code",
   "execution_count": 12,
   "id": "c0ce482d-5fa5-4599-84b5-79d943f34b08",
   "metadata": {},
   "outputs": [
    {
     "ename": "NameError",
     "evalue": "name 'asd' is not defined",
     "output_type": "error",
     "traceback": [
      "\u001b[0;31m---------------------------------------------------------------------------\u001b[0m",
      "\u001b[0;31mNameError\u001b[0m                                 Traceback (most recent call last)",
      "Cell \u001b[0;32mIn[12], line 1\u001b[0m\n\u001b[0;32m----> 1\u001b[0m k\u001b[38;5;241m.\u001b[39mcreate_submission(\u001b[43masd\u001b[49m, d\u001b[38;5;241m.\u001b[39muniq_users)\n",
      "\u001b[0;31mNameError\u001b[0m: name 'asd' is not defined"
     ]
    }
   ],
   "source": [
    "k.create_submission(asd, d.uniq_users)"
   ]
  }
 ],
 "metadata": {
  "kernelspec": {
   "display_name": "Python 3 (ipykernel)",
   "language": "python",
   "name": "python3"
  },
  "language_info": {
   "codemirror_mode": {
    "name": "ipython",
    "version": 3
   },
   "file_extension": ".py",
   "mimetype": "text/x-python",
   "name": "python",
   "nbconvert_exporter": "python",
   "pygments_lexer": "ipython3",
   "version": "3.10.8"
  }
 },
 "nbformat": 4,
 "nbformat_minor": 5
}
